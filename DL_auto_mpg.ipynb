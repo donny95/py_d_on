{
  "nbformat": 4,
  "nbformat_minor": 0,
  "metadata": {
    "colab": {
      "name": "DL_auto_mpg.ipynb",
      "provenance": [],
      "authorship_tag": "ABX9TyPrHu5R6VooN3kl/Wf2u7b/",
      "include_colab_link": true
    },
    "kernelspec": {
      "name": "python3",
      "display_name": "Python 3"
    }
  },
  "cells": [
    {
      "cell_type": "markdown",
      "metadata": {
        "id": "view-in-github",
        "colab_type": "text"
      },
      "source": [
        "<a href=\"https://colab.research.google.com/github/donny95/py_d_on/blob/main/DL_auto_mpg.ipynb\" target=\"_parent\"><img src=\"https://colab.research.google.com/assets/colab-badge.svg\" alt=\"Open In Colab\"/></a>"
      ]
    },
    {
      "cell_type": "code",
      "metadata": {
        "id": "9Mx_2-uieXc3"
      },
      "source": [
        ""
      ],
      "execution_count": null,
      "outputs": []
    },
    {
      "cell_type": "markdown",
      "metadata": {
        "id": "2NaSn-DRelOv"
      },
      "source": [
        "    1. mpg:           continuous\n",
        "    2. cylinders:     multi-valued discrete\n",
        "    3. displacement:  continuous\n",
        "    4. horsepower:    continuous\n",
        "    5. weight:        continuous\n",
        "    6. acceleration:  continuous\n",
        "    7. model year:    multi-valued discrete\n",
        "    8. origin:        multi-valued discrete\n",
        "    9. car name:      string (unique for each instance)"
      ]
    },
    {
      "cell_type": "code",
      "metadata": {
        "id": "eidlkkSheeR9"
      },
      "source": [
        "# mpg   cylinder   display   continuous   power   weight   accel   year   origin   name"
      ],
      "execution_count": null,
      "outputs": []
    },
    {
      "cell_type": "code",
      "metadata": {
        "colab": {
          "base_uri": "https://localhost:8080/"
        },
        "id": "yOgIbt3qeeUV",
        "outputId": "c0ec0e5c-481f-41f7-f766-596970949f56"
      },
      "source": [
        "from google.colab import drive\n",
        "drive.mount('/content/drive')"
      ],
      "execution_count": null,
      "outputs": [
        {
          "output_type": "stream",
          "text": [
            "Drive already mounted at /content/drive; to attempt to forcibly remount, call drive.mount(\"/content/drive\", force_remount=True).\n"
          ],
          "name": "stdout"
        }
      ]
    },
    {
      "cell_type": "code",
      "metadata": {
        "id": "jtCCeXs5gOX9"
      },
      "source": [
        "import pandas as pd\n",
        "import numpy as np\n",
        "import matplotlib.pyplot as plt\n",
        "import seaborn as sns"
      ],
      "execution_count": null,
      "outputs": []
    },
    {
      "cell_type": "code",
      "metadata": {
        "id": "BWenSnIVeeWm"
      },
      "source": [
        "df = pd.read_csv(\"/content/drive/MyDrive/Colab Notebooks/auto_mpg/auto-mpg.data\", sep='\\t') "
      ],
      "execution_count": null,
      "outputs": []
    },
    {
      "cell_type": "code",
      "metadata": {
        "colab": {
          "base_uri": "https://localhost:8080/",
          "height": 419
        },
        "id": "i6BzqZr7eeY3",
        "outputId": "de55f4ea-748c-4a79-e4dc-61c544616637"
      },
      "source": [
        "df"
      ],
      "execution_count": null,
      "outputs": [
        {
          "output_type": "execute_result",
          "data": {
            "text/html": [
              "<div>\n",
              "<style scoped>\n",
              "    .dataframe tbody tr th:only-of-type {\n",
              "        vertical-align: middle;\n",
              "    }\n",
              "\n",
              "    .dataframe tbody tr th {\n",
              "        vertical-align: top;\n",
              "    }\n",
              "\n",
              "    .dataframe thead th {\n",
              "        text-align: right;\n",
              "    }\n",
              "</style>\n",
              "<table border=\"1\" class=\"dataframe\">\n",
              "  <thead>\n",
              "    <tr style=\"text-align: right;\">\n",
              "      <th></th>\n",
              "      <th>18.0   8   307.0      130.0      3504.      12.0   70  1</th>\n",
              "      <th>chevrolet chevelle malibu</th>\n",
              "    </tr>\n",
              "  </thead>\n",
              "  <tbody>\n",
              "    <tr>\n",
              "      <th>0</th>\n",
              "      <td>15.0   8   350.0      165.0      3693.      11...</td>\n",
              "      <td>buick skylark 320</td>\n",
              "    </tr>\n",
              "    <tr>\n",
              "      <th>1</th>\n",
              "      <td>18.0   8   318.0      150.0      3436.      11...</td>\n",
              "      <td>plymouth satellite</td>\n",
              "    </tr>\n",
              "    <tr>\n",
              "      <th>2</th>\n",
              "      <td>16.0   8   304.0      150.0      3433.      12...</td>\n",
              "      <td>amc rebel sst</td>\n",
              "    </tr>\n",
              "    <tr>\n",
              "      <th>3</th>\n",
              "      <td>17.0   8   302.0      140.0      3449.      10...</td>\n",
              "      <td>ford torino</td>\n",
              "    </tr>\n",
              "    <tr>\n",
              "      <th>4</th>\n",
              "      <td>15.0   8   429.0      198.0      4341.      10...</td>\n",
              "      <td>ford galaxie 500</td>\n",
              "    </tr>\n",
              "    <tr>\n",
              "      <th>...</th>\n",
              "      <td>...</td>\n",
              "      <td>...</td>\n",
              "    </tr>\n",
              "    <tr>\n",
              "      <th>392</th>\n",
              "      <td>27.0   4   140.0      86.00      2790.      15...</td>\n",
              "      <td>ford mustang gl</td>\n",
              "    </tr>\n",
              "    <tr>\n",
              "      <th>393</th>\n",
              "      <td>44.0   4   97.00      52.00      2130.      24...</td>\n",
              "      <td>vw pickup</td>\n",
              "    </tr>\n",
              "    <tr>\n",
              "      <th>394</th>\n",
              "      <td>32.0   4   135.0      84.00      2295.      11...</td>\n",
              "      <td>dodge rampage</td>\n",
              "    </tr>\n",
              "    <tr>\n",
              "      <th>395</th>\n",
              "      <td>28.0   4   120.0      79.00      2625.      18...</td>\n",
              "      <td>ford ranger</td>\n",
              "    </tr>\n",
              "    <tr>\n",
              "      <th>396</th>\n",
              "      <td>31.0   4   119.0      82.00      2720.      19...</td>\n",
              "      <td>chevy s-10</td>\n",
              "    </tr>\n",
              "  </tbody>\n",
              "</table>\n",
              "<p>397 rows × 2 columns</p>\n",
              "</div>"
            ],
            "text/plain": [
              "    18.0   8   307.0      130.0      3504.      12.0   70  1 chevrolet chevelle malibu\n",
              "0    15.0   8   350.0      165.0      3693.      11...               buick skylark 320\n",
              "1    18.0   8   318.0      150.0      3436.      11...              plymouth satellite\n",
              "2    16.0   8   304.0      150.0      3433.      12...                   amc rebel sst\n",
              "3    17.0   8   302.0      140.0      3449.      10...                     ford torino\n",
              "4    15.0   8   429.0      198.0      4341.      10...                ford galaxie 500\n",
              "..                                                 ...                             ...\n",
              "392  27.0   4   140.0      86.00      2790.      15...                 ford mustang gl\n",
              "393  44.0   4   97.00      52.00      2130.      24...                       vw pickup\n",
              "394  32.0   4   135.0      84.00      2295.      11...                   dodge rampage\n",
              "395  28.0   4   120.0      79.00      2625.      18...                     ford ranger\n",
              "396  31.0   4   119.0      82.00      2720.      19...                      chevy s-10\n",
              "\n",
              "[397 rows x 2 columns]"
            ]
          },
          "metadata": {
            "tags": []
          },
          "execution_count": 5
        }
      ]
    },
    {
      "cell_type": "code",
      "metadata": {
        "id": "V-0M2j2reebN"
      },
      "source": [
        "column_names = ['mpg','cylinder','display','power','weight',\n",
        "                'accel', 'year', 'origin', 'name']\n",
        "df = pd.read_csv(\"/content/drive/MyDrive/Colab Notebooks/auto_mpg/auto-mpg.data\", names=column_names,\n",
        "                      na_values = \"?\", delimiter=r\"\\s+\")"
      ],
      "execution_count": null,
      "outputs": []
    },
    {
      "cell_type": "code",
      "metadata": {
        "colab": {
          "base_uri": "https://localhost:8080/"
        },
        "id": "0wibXR7Reedl",
        "outputId": "18b9bfd8-1e57-44a5-e516-0a769cd75783"
      },
      "source": [
        "df.info()"
      ],
      "execution_count": null,
      "outputs": [
        {
          "output_type": "stream",
          "text": [
            "<class 'pandas.core.frame.DataFrame'>\n",
            "RangeIndex: 398 entries, 0 to 397\n",
            "Data columns (total 9 columns):\n",
            " #   Column    Non-Null Count  Dtype  \n",
            "---  ------    --------------  -----  \n",
            " 0   mpg       398 non-null    float64\n",
            " 1   cylinder  398 non-null    int64  \n",
            " 2   display   398 non-null    float64\n",
            " 3   power     392 non-null    float64\n",
            " 4   weight    398 non-null    float64\n",
            " 5   accel     398 non-null    float64\n",
            " 6   year      398 non-null    int64  \n",
            " 7   origin    398 non-null    int64  \n",
            " 8   name      398 non-null    object \n",
            "dtypes: float64(5), int64(3), object(1)\n",
            "memory usage: 28.1+ KB\n"
          ],
          "name": "stdout"
        }
      ]
    },
    {
      "cell_type": "code",
      "metadata": {
        "colab": {
          "base_uri": "https://localhost:8080/"
        },
        "id": "dzqGNvTYeef9",
        "outputId": "b8d39009-5c85-4dfb-8fc8-bf0ae799f23a"
      },
      "source": [
        "df.shape"
      ],
      "execution_count": null,
      "outputs": [
        {
          "output_type": "execute_result",
          "data": {
            "text/plain": [
              "(398, 9)"
            ]
          },
          "metadata": {
            "tags": []
          },
          "execution_count": 8
        }
      ]
    },
    {
      "cell_type": "code",
      "metadata": {
        "colab": {
          "base_uri": "https://localhost:8080/",
          "height": 297
        },
        "id": "kxu7pgI0eem9",
        "outputId": "f833ffc1-59ee-4b0b-f7c7-0b2827f53a62"
      },
      "source": [
        "# power : missing value 6개  결측값 처리\n",
        "df.describe()"
      ],
      "execution_count": null,
      "outputs": [
        {
          "output_type": "execute_result",
          "data": {
            "text/html": [
              "<div>\n",
              "<style scoped>\n",
              "    .dataframe tbody tr th:only-of-type {\n",
              "        vertical-align: middle;\n",
              "    }\n",
              "\n",
              "    .dataframe tbody tr th {\n",
              "        vertical-align: top;\n",
              "    }\n",
              "\n",
              "    .dataframe thead th {\n",
              "        text-align: right;\n",
              "    }\n",
              "</style>\n",
              "<table border=\"1\" class=\"dataframe\">\n",
              "  <thead>\n",
              "    <tr style=\"text-align: right;\">\n",
              "      <th></th>\n",
              "      <th>mpg</th>\n",
              "      <th>cylinder</th>\n",
              "      <th>display</th>\n",
              "      <th>power</th>\n",
              "      <th>weight</th>\n",
              "      <th>accel</th>\n",
              "      <th>year</th>\n",
              "      <th>origin</th>\n",
              "    </tr>\n",
              "  </thead>\n",
              "  <tbody>\n",
              "    <tr>\n",
              "      <th>count</th>\n",
              "      <td>398.000000</td>\n",
              "      <td>398.000000</td>\n",
              "      <td>398.000000</td>\n",
              "      <td>392.000000</td>\n",
              "      <td>398.000000</td>\n",
              "      <td>398.000000</td>\n",
              "      <td>398.000000</td>\n",
              "      <td>398.000000</td>\n",
              "    </tr>\n",
              "    <tr>\n",
              "      <th>mean</th>\n",
              "      <td>23.514573</td>\n",
              "      <td>5.454774</td>\n",
              "      <td>193.425879</td>\n",
              "      <td>104.469388</td>\n",
              "      <td>2970.424623</td>\n",
              "      <td>15.568090</td>\n",
              "      <td>76.010050</td>\n",
              "      <td>1.572864</td>\n",
              "    </tr>\n",
              "    <tr>\n",
              "      <th>std</th>\n",
              "      <td>7.815984</td>\n",
              "      <td>1.701004</td>\n",
              "      <td>104.269838</td>\n",
              "      <td>38.491160</td>\n",
              "      <td>846.841774</td>\n",
              "      <td>2.757689</td>\n",
              "      <td>3.697627</td>\n",
              "      <td>0.802055</td>\n",
              "    </tr>\n",
              "    <tr>\n",
              "      <th>min</th>\n",
              "      <td>9.000000</td>\n",
              "      <td>3.000000</td>\n",
              "      <td>68.000000</td>\n",
              "      <td>46.000000</td>\n",
              "      <td>1613.000000</td>\n",
              "      <td>8.000000</td>\n",
              "      <td>70.000000</td>\n",
              "      <td>1.000000</td>\n",
              "    </tr>\n",
              "    <tr>\n",
              "      <th>25%</th>\n",
              "      <td>17.500000</td>\n",
              "      <td>4.000000</td>\n",
              "      <td>104.250000</td>\n",
              "      <td>75.000000</td>\n",
              "      <td>2223.750000</td>\n",
              "      <td>13.825000</td>\n",
              "      <td>73.000000</td>\n",
              "      <td>1.000000</td>\n",
              "    </tr>\n",
              "    <tr>\n",
              "      <th>50%</th>\n",
              "      <td>23.000000</td>\n",
              "      <td>4.000000</td>\n",
              "      <td>148.500000</td>\n",
              "      <td>93.500000</td>\n",
              "      <td>2803.500000</td>\n",
              "      <td>15.500000</td>\n",
              "      <td>76.000000</td>\n",
              "      <td>1.000000</td>\n",
              "    </tr>\n",
              "    <tr>\n",
              "      <th>75%</th>\n",
              "      <td>29.000000</td>\n",
              "      <td>8.000000</td>\n",
              "      <td>262.000000</td>\n",
              "      <td>126.000000</td>\n",
              "      <td>3608.000000</td>\n",
              "      <td>17.175000</td>\n",
              "      <td>79.000000</td>\n",
              "      <td>2.000000</td>\n",
              "    </tr>\n",
              "    <tr>\n",
              "      <th>max</th>\n",
              "      <td>46.600000</td>\n",
              "      <td>8.000000</td>\n",
              "      <td>455.000000</td>\n",
              "      <td>230.000000</td>\n",
              "      <td>5140.000000</td>\n",
              "      <td>24.800000</td>\n",
              "      <td>82.000000</td>\n",
              "      <td>3.000000</td>\n",
              "    </tr>\n",
              "  </tbody>\n",
              "</table>\n",
              "</div>"
            ],
            "text/plain": [
              "              mpg    cylinder     display  ...       accel        year      origin\n",
              "count  398.000000  398.000000  398.000000  ...  398.000000  398.000000  398.000000\n",
              "mean    23.514573    5.454774  193.425879  ...   15.568090   76.010050    1.572864\n",
              "std      7.815984    1.701004  104.269838  ...    2.757689    3.697627    0.802055\n",
              "min      9.000000    3.000000   68.000000  ...    8.000000   70.000000    1.000000\n",
              "25%     17.500000    4.000000  104.250000  ...   13.825000   73.000000    1.000000\n",
              "50%     23.000000    4.000000  148.500000  ...   15.500000   76.000000    1.000000\n",
              "75%     29.000000    8.000000  262.000000  ...   17.175000   79.000000    2.000000\n",
              "max     46.600000    8.000000  455.000000  ...   24.800000   82.000000    3.000000\n",
              "\n",
              "[8 rows x 8 columns]"
            ]
          },
          "metadata": {
            "tags": []
          },
          "execution_count": 9
        }
      ]
    },
    {
      "cell_type": "code",
      "metadata": {
        "colab": {
          "base_uri": "https://localhost:8080/"
        },
        "id": "joMXDEY8eesN",
        "outputId": "cac25b29-c788-438e-b8f5-1aebdfb18290"
      },
      "source": [
        "df.isna().sum()"
      ],
      "execution_count": null,
      "outputs": [
        {
          "output_type": "execute_result",
          "data": {
            "text/plain": [
              "mpg         0\n",
              "cylinder    0\n",
              "display     0\n",
              "power       6\n",
              "weight      0\n",
              "accel       0\n",
              "year        0\n",
              "origin      0\n",
              "name        0\n",
              "dtype: int64"
            ]
          },
          "metadata": {
            "tags": []
          },
          "execution_count": 10
        }
      ]
    },
    {
      "cell_type": "code",
      "metadata": {
        "id": "Sxdko6Xyeeuv"
      },
      "source": [
        "df['power']=df.fillna(df['power'].mean())"
      ],
      "execution_count": null,
      "outputs": []
    },
    {
      "cell_type": "code",
      "metadata": {
        "colab": {
          "base_uri": "https://localhost:8080/"
        },
        "id": "qE59WMwpeexW",
        "outputId": "c2bb9abe-5078-40a8-c953-97b618405c6f"
      },
      "source": [
        "df.isna().sum()"
      ],
      "execution_count": null,
      "outputs": [
        {
          "output_type": "execute_result",
          "data": {
            "text/plain": [
              "mpg         0\n",
              "cylinder    0\n",
              "display     0\n",
              "power       0\n",
              "weight      0\n",
              "accel       0\n",
              "year        0\n",
              "origin      0\n",
              "name        0\n",
              "dtype: int64"
            ]
          },
          "metadata": {
            "tags": []
          },
          "execution_count": 12
        }
      ]
    },
    {
      "cell_type": "code",
      "metadata": {
        "colab": {
          "base_uri": "https://localhost:8080/",
          "height": 419
        },
        "id": "clID24_See4m",
        "outputId": "a74d2df1-dff3-4ca5-c6a5-4a25892708c3"
      },
      "source": [
        "df"
      ],
      "execution_count": null,
      "outputs": [
        {
          "output_type": "execute_result",
          "data": {
            "text/html": [
              "<div>\n",
              "<style scoped>\n",
              "    .dataframe tbody tr th:only-of-type {\n",
              "        vertical-align: middle;\n",
              "    }\n",
              "\n",
              "    .dataframe tbody tr th {\n",
              "        vertical-align: top;\n",
              "    }\n",
              "\n",
              "    .dataframe thead th {\n",
              "        text-align: right;\n",
              "    }\n",
              "</style>\n",
              "<table border=\"1\" class=\"dataframe\">\n",
              "  <thead>\n",
              "    <tr style=\"text-align: right;\">\n",
              "      <th></th>\n",
              "      <th>mpg</th>\n",
              "      <th>cylinder</th>\n",
              "      <th>display</th>\n",
              "      <th>power</th>\n",
              "      <th>weight</th>\n",
              "      <th>accel</th>\n",
              "      <th>year</th>\n",
              "      <th>origin</th>\n",
              "      <th>name</th>\n",
              "    </tr>\n",
              "  </thead>\n",
              "  <tbody>\n",
              "    <tr>\n",
              "      <th>0</th>\n",
              "      <td>18.0</td>\n",
              "      <td>8</td>\n",
              "      <td>307.0</td>\n",
              "      <td>18</td>\n",
              "      <td>3504.0</td>\n",
              "      <td>12.0</td>\n",
              "      <td>70</td>\n",
              "      <td>1</td>\n",
              "      <td>chevrolet chevelle malibu</td>\n",
              "    </tr>\n",
              "    <tr>\n",
              "      <th>1</th>\n",
              "      <td>15.0</td>\n",
              "      <td>8</td>\n",
              "      <td>350.0</td>\n",
              "      <td>15</td>\n",
              "      <td>3693.0</td>\n",
              "      <td>11.5</td>\n",
              "      <td>70</td>\n",
              "      <td>1</td>\n",
              "      <td>buick skylark 320</td>\n",
              "    </tr>\n",
              "    <tr>\n",
              "      <th>2</th>\n",
              "      <td>18.0</td>\n",
              "      <td>8</td>\n",
              "      <td>318.0</td>\n",
              "      <td>18</td>\n",
              "      <td>3436.0</td>\n",
              "      <td>11.0</td>\n",
              "      <td>70</td>\n",
              "      <td>1</td>\n",
              "      <td>plymouth satellite</td>\n",
              "    </tr>\n",
              "    <tr>\n",
              "      <th>3</th>\n",
              "      <td>16.0</td>\n",
              "      <td>8</td>\n",
              "      <td>304.0</td>\n",
              "      <td>16</td>\n",
              "      <td>3433.0</td>\n",
              "      <td>12.0</td>\n",
              "      <td>70</td>\n",
              "      <td>1</td>\n",
              "      <td>amc rebel sst</td>\n",
              "    </tr>\n",
              "    <tr>\n",
              "      <th>4</th>\n",
              "      <td>17.0</td>\n",
              "      <td>8</td>\n",
              "      <td>302.0</td>\n",
              "      <td>17</td>\n",
              "      <td>3449.0</td>\n",
              "      <td>10.5</td>\n",
              "      <td>70</td>\n",
              "      <td>1</td>\n",
              "      <td>ford torino</td>\n",
              "    </tr>\n",
              "    <tr>\n",
              "      <th>...</th>\n",
              "      <td>...</td>\n",
              "      <td>...</td>\n",
              "      <td>...</td>\n",
              "      <td>...</td>\n",
              "      <td>...</td>\n",
              "      <td>...</td>\n",
              "      <td>...</td>\n",
              "      <td>...</td>\n",
              "      <td>...</td>\n",
              "    </tr>\n",
              "    <tr>\n",
              "      <th>393</th>\n",
              "      <td>27.0</td>\n",
              "      <td>4</td>\n",
              "      <td>140.0</td>\n",
              "      <td>27</td>\n",
              "      <td>2790.0</td>\n",
              "      <td>15.6</td>\n",
              "      <td>82</td>\n",
              "      <td>1</td>\n",
              "      <td>ford mustang gl</td>\n",
              "    </tr>\n",
              "    <tr>\n",
              "      <th>394</th>\n",
              "      <td>44.0</td>\n",
              "      <td>4</td>\n",
              "      <td>97.0</td>\n",
              "      <td>44</td>\n",
              "      <td>2130.0</td>\n",
              "      <td>24.6</td>\n",
              "      <td>82</td>\n",
              "      <td>2</td>\n",
              "      <td>vw pickup</td>\n",
              "    </tr>\n",
              "    <tr>\n",
              "      <th>395</th>\n",
              "      <td>32.0</td>\n",
              "      <td>4</td>\n",
              "      <td>135.0</td>\n",
              "      <td>32</td>\n",
              "      <td>2295.0</td>\n",
              "      <td>11.6</td>\n",
              "      <td>82</td>\n",
              "      <td>1</td>\n",
              "      <td>dodge rampage</td>\n",
              "    </tr>\n",
              "    <tr>\n",
              "      <th>396</th>\n",
              "      <td>28.0</td>\n",
              "      <td>4</td>\n",
              "      <td>120.0</td>\n",
              "      <td>28</td>\n",
              "      <td>2625.0</td>\n",
              "      <td>18.6</td>\n",
              "      <td>82</td>\n",
              "      <td>1</td>\n",
              "      <td>ford ranger</td>\n",
              "    </tr>\n",
              "    <tr>\n",
              "      <th>397</th>\n",
              "      <td>31.0</td>\n",
              "      <td>4</td>\n",
              "      <td>119.0</td>\n",
              "      <td>31</td>\n",
              "      <td>2720.0</td>\n",
              "      <td>19.4</td>\n",
              "      <td>82</td>\n",
              "      <td>1</td>\n",
              "      <td>chevy s-10</td>\n",
              "    </tr>\n",
              "  </tbody>\n",
              "</table>\n",
              "<p>398 rows × 9 columns</p>\n",
              "</div>"
            ],
            "text/plain": [
              "      mpg  cylinder  display  ... year  origin                       name\n",
              "0    18.0         8    307.0  ...   70       1  chevrolet chevelle malibu\n",
              "1    15.0         8    350.0  ...   70       1          buick skylark 320\n",
              "2    18.0         8    318.0  ...   70       1         plymouth satellite\n",
              "3    16.0         8    304.0  ...   70       1              amc rebel sst\n",
              "4    17.0         8    302.0  ...   70       1                ford torino\n",
              "..    ...       ...      ...  ...  ...     ...                        ...\n",
              "393  27.0         4    140.0  ...   82       1            ford mustang gl\n",
              "394  44.0         4     97.0  ...   82       2                  vw pickup\n",
              "395  32.0         4    135.0  ...   82       1              dodge rampage\n",
              "396  28.0         4    120.0  ...   82       1                ford ranger\n",
              "397  31.0         4    119.0  ...   82       1                 chevy s-10\n",
              "\n",
              "[398 rows x 9 columns]"
            ]
          },
          "metadata": {
            "tags": []
          },
          "execution_count": 13
        }
      ]
    },
    {
      "cell_type": "code",
      "metadata": {
        "colab": {
          "base_uri": "https://localhost:8080/"
        },
        "id": "H6Bf4UMLefFF",
        "outputId": "c7ba4de7-5864-4c0d-87c3-5ef98918b1f4"
      },
      "source": [
        "# object 값 처리\n",
        "df[\"name\"].nunique()\n",
        "\n",
        "# 305건 : 너무 유니크한 값이므로 name 은 drop 하도록 한다.\n",
        "\n",
        "\n"
      ],
      "execution_count": null,
      "outputs": [
        {
          "output_type": "execute_result",
          "data": {
            "text/plain": [
              "305"
            ]
          },
          "metadata": {
            "tags": []
          },
          "execution_count": 14
        }
      ]
    },
    {
      "cell_type": "code",
      "metadata": {
        "id": "ab3VQEe9s6kk"
      },
      "source": [
        "df.drop(\"name\", axis=1, inplace=True)"
      ],
      "execution_count": null,
      "outputs": []
    },
    {
      "cell_type": "code",
      "metadata": {
        "id": "jHO8HPgMt1Fz"
      },
      "source": [
        "# origin : 원핫 인코딩 진행 --> 1(usa) , 2(eu), 3(jp)"
      ],
      "execution_count": null,
      "outputs": []
    },
    {
      "cell_type": "code",
      "metadata": {
        "colab": {
          "base_uri": "https://localhost:8080/"
        },
        "id": "J--4uZE9v-MD",
        "outputId": "beb276cf-86ec-4dfc-8a9a-7957370b1ae4"
      },
      "source": [
        "df.columns"
      ],
      "execution_count": null,
      "outputs": [
        {
          "output_type": "execute_result",
          "data": {
            "text/plain": [
              "Index(['mpg', 'cylinder', 'display', 'power', 'weight', 'accel', 'year',\n",
              "       'origin'],\n",
              "      dtype='object')"
            ]
          },
          "metadata": {
            "tags": []
          },
          "execution_count": 17
        }
      ]
    },
    {
      "cell_type": "code",
      "metadata": {
        "colab": {
          "base_uri": "https://localhost:8080/",
          "height": 287
        },
        "id": "xZqhZ5zruEa0",
        "outputId": "f8c6e6c5-bf89-46ec-d27b-310b769a26e0"
      },
      "source": [
        "# 상관분석\n",
        "\n",
        "sns.heatmap(df.corr(), annot=True, fmt=\".3f\")\n"
      ],
      "execution_count": null,
      "outputs": [
        {
          "output_type": "execute_result",
          "data": {
            "text/plain": [
              "<matplotlib.axes._subplots.AxesSubplot at 0x7effcd79aba8>"
            ]
          },
          "metadata": {
            "tags": []
          },
          "execution_count": 18
        },
        {
          "output_type": "display_data",
          "data": {
            "image/png": "[encoded data removed]",
            "text/plain": [
              "<Figure size 432x288 with 2 Axes>"
            ]
          },
          "metadata": {
            "tags": [],
            "needs_background": "light"
          }
        }
      ]
    },
    {
      "cell_type": "markdown",
      "metadata": {
        "id": "-Ziwj0-HuSdb"
      },
      "source": [
        "- mpg 과 음의 상관관계를 가지는 것들."
      ]
    },
    {
      "cell_type": "code",
      "metadata": {
        "id": "-1qvuVVHxdps"
      },
      "source": [
        "# 모델 \n",
        "\n",
        "import tensorflow as tf\n",
        "from keras.models import  Sequential #모델을 순서대로 하나하나씩 쌓음\n",
        "from keras.layers import Dense "
      ],
      "execution_count": null,
      "outputs": []
    },
    {
      "cell_type": "code",
      "metadata": {
        "id": "bcHJhzp7zbVL"
      },
      "source": [
        "\n",
        "def CHART_PLOT_HISTORY(history):\n",
        "    hist = pd.DataFrame(history.history)\n",
        "    hist['epoch'] = history.epoch\n",
        "\n",
        "    plt.figure(figsize=(8,12))\n",
        "\n",
        "    plt.subplot(2,1,1)\n",
        "    plt.xlabel('epoch')\n",
        "    plt.ylabel('accuracy')\n",
        "    plt.plot(hist['epoch'], hist['mse'],    label='mse')\n",
        "    plt.plot(hist['epoch'], hist['val_mse'],label = 'val_mse')\n",
        "    plt.legend()\n",
        "\n",
        "    plt.subplot(2,1,2)\n",
        "    plt.xlabel('epoch')\n",
        "    plt.ylabel('loss')\n",
        "    plt.plot(hist['epoch'], hist['loss'],    label='loss')\n",
        "    plt.plot(hist['epoch'], hist['val_loss'],label = 'val_loss')\n",
        "    plt.legend()\n",
        "    plt.show()"
      ],
      "execution_count": null,
      "outputs": []
    },
    {
      "cell_type": "code",
      "metadata": {
        "colab": {
          "base_uri": "https://localhost:8080/"
        },
        "id": "zlAQGJ3Bx3gq",
        "outputId": "6432a96e-8ac5-43e0-e71d-df4a753c2c30"
      },
      "source": [
        "df.shape"
      ],
      "execution_count": null,
      "outputs": [
        {
          "output_type": "execute_result",
          "data": {
            "text/plain": [
              "(398, 8)"
            ]
          },
          "metadata": {
            "tags": []
          },
          "execution_count": 21
        }
      ]
    },
    {
      "cell_type": "code",
      "metadata": {
        "id": "Q0BRQQFdxdnV"
      },
      "source": [
        "model = Sequential()\n",
        "model.add(Dense(units=16, input_dim=7, activation=\"relu\")) # target 은 제외 -> 7개\n",
        "model.add(Dense(units=16, activation=\"relu\"))\n",
        "model.add(Dense(units=8, activation=\"relu\")) \n",
        "model.add(Dense(units=8, activation=\"relu\")) \n",
        "model.add(Dense(units=1)) # 회기에서는 activation 필요 없음.\n",
        "\n",
        "model.compile(optimizer='adam', # GD(경사하강-가장정확, 느림), SGD(빠름, 부정확), momentum, ada, adam(경사하강법, 가장 성능좋음)\n",
        "              loss='mse', # 손실함수(cost loss)\n",
        "              metrics=[\"mse\",\"mae\"]) "
      ],
      "execution_count": null,
      "outputs": []
    },
    {
      "cell_type": "code",
      "metadata": {
        "colab": {
          "base_uri": "https://localhost:8080/"
        },
        "id": "c0p_hKE4yYHP",
        "outputId": "8d4f0dd3-bfd6-4572-f053-96ac00b35648"
      },
      "source": [
        "#모델이 잘 만들어졌는지 요약 확인!\n",
        "model.summary()"
      ],
      "execution_count": null,
      "outputs": [
        {
          "output_type": "stream",
          "text": [
            "Model: \"sequential\"\n",
            "_________________________________________________________________\n",
            "Layer (type)                 Output Shape              Param #   \n",
            "=================================================================\n",
            "dense (Dense)                (None, 16)                128       \n",
            "_________________________________________________________________\n",
            "dense_1 (Dense)              (None, 16)                272       \n",
            "_________________________________________________________________\n",
            "dense_2 (Dense)              (None, 8)                 136       \n",
            "_________________________________________________________________\n",
            "dense_3 (Dense)              (None, 8)                 72        \n",
            "_________________________________________________________________\n",
            "dense_4 (Dense)              (None, 1)                 9         \n",
            "=================================================================\n",
            "Total params: 617\n",
            "Trainable params: 617\n",
            "Non-trainable params: 0\n",
            "_________________________________________________________________\n"
          ],
          "name": "stdout"
        }
      ]
    },
    {
      "cell_type": "code",
      "metadata": {
        "id": "1I0Q5Ncnzmwl"
      },
      "source": [
        "# X , y 로 나누기.\n",
        "X = df.drop(\"mpg\", axis=1)\n",
        "y = pd.DataFrame(df[\"mpg\"])\n",
        "\n",
        "\n",
        "X=np.asarray(X).astype(np.int)\n",
        "y=np.asarray(y).astype(np.int)"
      ],
      "execution_count": null,
      "outputs": []
    },
    {
      "cell_type": "code",
      "metadata": {
        "colab": {
          "base_uri": "https://localhost:8080/"
        },
        "id": "EdiVFUfWxdiD",
        "outputId": "30d6a63a-b10e-488f-9ae1-b1e20ccb773d"
      },
      "source": [
        "from keras.callbacks import EarlyStopping\n",
        "early_stop = EarlyStopping(monitor='val_loss', patience=10)\n",
        "\n",
        "history = model.fit(X, y, callbacks=[early_stop], validation_split=0.1, epochs=100)"
      ],
      "execution_count": null,
      "outputs": [
        {
          "output_type": "stream",
          "text": [
            "Epoch 1/100\n",
            "12/12 [==============================] - 1s 40ms/step - loss: 18231.8314 - mse: 18231.8314 - mae: 131.4961 - val_loss: 7996.2969 - val_mse: 7996.2969 - val_mae: 89.1176\n",
            "Epoch 2/100\n",
            "12/12 [==============================] - 0s 5ms/step - loss: 6806.7143 - mse: 6806.7143 - mae: 81.2672 - val_loss: 3929.7715 - val_mse: 3929.7715 - val_mae: 62.5472\n",
            "Epoch 3/100\n",
            "12/12 [==============================] - 0s 5ms/step - loss: 3194.7138 - mse: 3194.7138 - mae: 56.2033 - val_loss: 2608.8191 - val_mse: 2608.8191 - val_mae: 50.9264\n",
            "Epoch 4/100\n",
            "12/12 [==============================] - 0s 4ms/step - loss: 1939.0785 - mse: 1939.0785 - mae: 43.7643 - val_loss: 1778.9828 - val_mse: 1778.9828 - val_mae: 41.9337\n",
            "Epoch 5/100\n",
            "12/12 [==============================] - 0s 15ms/step - loss: 1218.0271 - mse: 1218.0271 - mae: 34.4830 - val_loss: 1305.0481 - val_mse: 1305.0481 - val_mae: 35.7504\n",
            "Epoch 6/100\n",
            "12/12 [==============================] - 0s 4ms/step - loss: 821.0080 - mse: 821.0080 - mae: 27.9873 - val_loss: 1058.2457 - val_mse: 1058.2457 - val_mae: 32.0287\n",
            "Epoch 7/100\n",
            "12/12 [==============================] - 0s 4ms/step - loss: 600.4054 - mse: 600.4054 - mae: 23.5290 - val_loss: 883.7433 - val_mse: 883.7433 - val_mae: 29.1056\n",
            "Epoch 8/100\n",
            "12/12 [==============================] - 0s 5ms/step - loss: 517.0086 - mse: 517.0086 - mae: 21.0653 - val_loss: 733.8044 - val_mse: 733.8044 - val_mae: 26.3146\n",
            "Epoch 9/100\n",
            "12/12 [==============================] - 0s 4ms/step - loss: 371.7525 - mse: 371.7525 - mae: 17.0456 - val_loss: 613.2194 - val_mse: 613.2194 - val_mae: 23.8063\n",
            "Epoch 10/100\n",
            "12/12 [==============================] - 0s 4ms/step - loss: 292.1461 - mse: 292.1461 - mae: 14.1125 - val_loss: 509.0884 - val_mse: 509.0884 - val_mae: 21.3917\n",
            "Epoch 11/100\n",
            "12/12 [==============================] - 0s 4ms/step - loss: 248.1276 - mse: 248.1276 - mae: 12.6148 - val_loss: 426.9302 - val_mse: 426.9302 - val_mae: 19.3087\n",
            "Epoch 12/100\n",
            "12/12 [==============================] - 0s 4ms/step - loss: 219.9815 - mse: 219.9815 - mae: 11.9182 - val_loss: 363.1599 - val_mse: 363.1599 - val_mae: 17.4678\n",
            "Epoch 13/100\n",
            "12/12 [==============================] - 0s 4ms/step - loss: 176.4812 - mse: 176.4812 - mae: 10.7867 - val_loss: 321.4716 - val_mse: 321.4716 - val_mae: 16.2175\n",
            "Epoch 14/100\n",
            "12/12 [==============================] - 0s 5ms/step - loss: 159.8596 - mse: 159.8596 - mae: 10.2968 - val_loss: 283.5928 - val_mse: 283.5928 - val_mae: 14.9806\n",
            "Epoch 15/100\n",
            "12/12 [==============================] - 0s 4ms/step - loss: 170.6261 - mse: 170.6261 - mae: 10.9054 - val_loss: 267.8355 - val_mse: 267.8355 - val_mae: 14.4390\n",
            "Epoch 16/100\n",
            "12/12 [==============================] - 0s 5ms/step - loss: 163.1316 - mse: 163.1316 - mae: 10.5157 - val_loss: 246.9795 - val_mse: 246.9795 - val_mae: 13.6757\n",
            "Epoch 17/100\n",
            "12/12 [==============================] - 0s 4ms/step - loss: 165.7767 - mse: 165.7767 - mae: 10.7576 - val_loss: 246.0536 - val_mse: 246.0536 - val_mae: 13.6562\n",
            "Epoch 18/100\n",
            "12/12 [==============================] - 0s 4ms/step - loss: 151.0026 - mse: 151.0026 - mae: 10.1598 - val_loss: 236.6784 - val_mse: 236.6784 - val_mae: 13.3057\n",
            "Epoch 19/100\n",
            "12/12 [==============================] - 0s 5ms/step - loss: 157.3883 - mse: 157.3883 - mae: 10.6427 - val_loss: 245.3585 - val_mse: 245.3585 - val_mae: 13.6586\n",
            "Epoch 20/100\n",
            "12/12 [==============================] - 0s 4ms/step - loss: 159.4869 - mse: 159.4869 - mae: 10.3627 - val_loss: 227.9256 - val_mse: 227.9256 - val_mae: 12.9834\n",
            "Epoch 21/100\n",
            "12/12 [==============================] - 0s 4ms/step - loss: 153.4258 - mse: 153.4258 - mae: 10.4050 - val_loss: 227.5909 - val_mse: 227.5909 - val_mae: 12.9911\n",
            "Epoch 22/100\n",
            "12/12 [==============================] - 0s 4ms/step - loss: 157.7242 - mse: 157.7242 - mae: 10.4882 - val_loss: 254.1071 - val_mse: 254.1071 - val_mae: 14.0317\n",
            "Epoch 23/100\n",
            "12/12 [==============================] - 0s 5ms/step - loss: 139.3163 - mse: 139.3163 - mae: 9.7850 - val_loss: 211.7408 - val_mse: 211.7408 - val_mae: 12.3930\n",
            "Epoch 24/100\n",
            "12/12 [==============================] - 0s 5ms/step - loss: 150.6379 - mse: 150.6379 - mae: 10.3651 - val_loss: 247.8250 - val_mse: 247.8250 - val_mae: 13.8282\n",
            "Epoch 25/100\n",
            "12/12 [==============================] - 0s 5ms/step - loss: 158.7869 - mse: 158.7869 - mae: 10.4679 - val_loss: 218.1398 - val_mse: 218.1398 - val_mae: 12.6746\n",
            "Epoch 26/100\n",
            "12/12 [==============================] - 0s 4ms/step - loss: 141.8618 - mse: 141.8618 - mae: 9.8672 - val_loss: 214.5889 - val_mse: 214.5889 - val_mae: 12.5486\n",
            "Epoch 27/100\n",
            "12/12 [==============================] - 0s 4ms/step - loss: 139.0726 - mse: 139.0726 - mae: 9.9328 - val_loss: 207.2703 - val_mse: 207.2703 - val_mae: 12.2847\n",
            "Epoch 28/100\n",
            "12/12 [==============================] - 0s 5ms/step - loss: 139.8383 - mse: 139.8383 - mae: 9.7216 - val_loss: 218.3504 - val_mse: 218.3504 - val_mae: 12.7464\n",
            "Epoch 29/100\n",
            "12/12 [==============================] - 0s 5ms/step - loss: 142.9320 - mse: 142.9320 - mae: 9.7611 - val_loss: 227.3149 - val_mse: 227.3149 - val_mae: 13.1301\n",
            "Epoch 30/100\n",
            "12/12 [==============================] - 0s 5ms/step - loss: 129.5421 - mse: 129.5421 - mae: 9.3368 - val_loss: 194.1669 - val_mse: 194.1669 - val_mae: 11.8056\n",
            "Epoch 31/100\n",
            "12/12 [==============================] - 0s 4ms/step - loss: 132.8307 - mse: 132.8307 - mae: 9.5175 - val_loss: 208.6220 - val_mse: 208.6220 - val_mae: 12.4087\n",
            "Epoch 32/100\n",
            "12/12 [==============================] - 0s 5ms/step - loss: 125.1281 - mse: 125.1281 - mae: 9.2627 - val_loss: 189.3103 - val_mse: 189.3103 - val_mae: 11.6301\n",
            "Epoch 33/100\n",
            "12/12 [==============================] - 0s 4ms/step - loss: 126.1887 - mse: 126.1887 - mae: 9.2615 - val_loss: 239.8395 - val_mse: 239.8395 - val_mae: 13.6905\n",
            "Epoch 34/100\n",
            "12/12 [==============================] - 0s 4ms/step - loss: 138.3693 - mse: 138.3693 - mae: 9.5304 - val_loss: 191.2681 - val_mse: 191.2681 - val_mae: 11.7371\n",
            "Epoch 35/100\n",
            "12/12 [==============================] - 0s 5ms/step - loss: 112.6817 - mse: 112.6817 - mae: 8.6304 - val_loss: 176.4812 - val_mse: 176.4812 - val_mae: 11.1418\n",
            "Epoch 36/100\n",
            "12/12 [==============================] - 0s 5ms/step - loss: 109.9897 - mse: 109.9897 - mae: 8.6398 - val_loss: 185.3204 - val_mse: 185.3204 - val_mae: 11.5215\n",
            "Epoch 37/100\n",
            "12/12 [==============================] - 0s 4ms/step - loss: 115.9187 - mse: 115.9187 - mae: 8.8735 - val_loss: 193.3296 - val_mse: 193.3296 - val_mae: 11.8919\n",
            "Epoch 38/100\n",
            "12/12 [==============================] - 0s 4ms/step - loss: 112.0831 - mse: 112.0831 - mae: 8.5996 - val_loss: 209.6014 - val_mse: 209.6014 - val_mae: 12.6072\n",
            "Epoch 39/100\n",
            "12/12 [==============================] - 0s 4ms/step - loss: 101.2210 - mse: 101.2210 - mae: 8.1556 - val_loss: 164.4447 - val_mse: 164.4447 - val_mae: 10.6795\n",
            "Epoch 40/100\n",
            "12/12 [==============================] - 0s 5ms/step - loss: 93.3677 - mse: 93.3677 - mae: 7.7792 - val_loss: 158.0661 - val_mse: 158.0661 - val_mae: 10.4243\n",
            "Epoch 41/100\n",
            "12/12 [==============================] - 0s 4ms/step - loss: 106.2381 - mse: 106.2381 - mae: 8.3545 - val_loss: 174.3953 - val_mse: 174.3953 - val_mae: 11.1462\n",
            "Epoch 42/100\n",
            "12/12 [==============================] - 0s 5ms/step - loss: 103.5225 - mse: 103.5225 - mae: 8.0694 - val_loss: 191.9137 - val_mse: 191.9137 - val_mae: 11.9583\n",
            "Epoch 43/100\n",
            "12/12 [==============================] - 0s 5ms/step - loss: 97.4156 - mse: 97.4156 - mae: 7.8492 - val_loss: 153.7753 - val_mse: 153.7753 - val_mae: 10.2717\n",
            "Epoch 44/100\n",
            "12/12 [==============================] - 0s 5ms/step - loss: 99.4900 - mse: 99.4900 - mae: 7.8939 - val_loss: 136.0892 - val_mse: 136.0892 - val_mae: 9.4585\n",
            "Epoch 45/100\n",
            "12/12 [==============================] - 0s 4ms/step - loss: 87.3901 - mse: 87.3901 - mae: 7.4787 - val_loss: 136.2492 - val_mse: 136.2492 - val_mae: 9.4963\n",
            "Epoch 46/100\n",
            "12/12 [==============================] - 0s 4ms/step - loss: 96.9370 - mse: 96.9370 - mae: 7.8926 - val_loss: 128.6539 - val_mse: 128.6539 - val_mae: 9.1644\n",
            "Epoch 47/100\n",
            "12/12 [==============================] - 0s 5ms/step - loss: 90.5668 - mse: 90.5668 - mae: 7.6876 - val_loss: 140.2371 - val_mse: 140.2371 - val_mae: 9.7111\n",
            "Epoch 48/100\n",
            "12/12 [==============================] - 0s 4ms/step - loss: 77.3337 - mse: 77.3337 - mae: 6.9136 - val_loss: 132.3686 - val_mse: 132.3686 - val_mae: 9.3546\n",
            "Epoch 49/100\n",
            "12/12 [==============================] - 0s 4ms/step - loss: 83.8803 - mse: 83.8803 - mae: 7.3312 - val_loss: 136.4297 - val_mse: 136.4297 - val_mae: 9.5516\n",
            "Epoch 50/100\n",
            "12/12 [==============================] - 0s 5ms/step - loss: 69.7815 - mse: 69.7815 - mae: 6.6165 - val_loss: 175.5813 - val_mse: 175.5813 - val_mae: 11.4282\n",
            "Epoch 51/100\n",
            "12/12 [==============================] - 0s 4ms/step - loss: 83.2659 - mse: 83.2659 - mae: 7.0992 - val_loss: 135.5954 - val_mse: 135.5954 - val_mae: 9.5485\n",
            "Epoch 52/100\n",
            "12/12 [==============================] - 0s 4ms/step - loss: 77.5095 - mse: 77.5095 - mae: 6.9592 - val_loss: 142.3443 - val_mse: 142.3443 - val_mae: 9.8883\n",
            "Epoch 53/100\n",
            "12/12 [==============================] - 0s 4ms/step - loss: 71.3075 - mse: 71.3075 - mae: 6.5296 - val_loss: 130.3676 - val_mse: 130.3676 - val_mae: 9.3207\n",
            "Epoch 54/100\n",
            "12/12 [==============================] - 0s 5ms/step - loss: 68.3219 - mse: 68.3219 - mae: 6.4959 - val_loss: 102.6558 - val_mse: 102.6558 - val_mae: 8.0567\n",
            "Epoch 55/100\n",
            "12/12 [==============================] - 0s 5ms/step - loss: 55.5319 - mse: 55.5319 - mae: 5.8168 - val_loss: 100.0417 - val_mse: 100.0417 - val_mae: 7.9374\n",
            "Epoch 56/100\n",
            "12/12 [==============================] - 0s 5ms/step - loss: 63.4587 - mse: 63.4587 - mae: 6.0928 - val_loss: 91.6644 - val_mse: 91.6644 - val_mae: 7.4937\n",
            "Epoch 57/100\n",
            "12/12 [==============================] - 0s 5ms/step - loss: 58.4955 - mse: 58.4955 - mae: 6.1606 - val_loss: 95.3652 - val_mse: 95.3652 - val_mae: 7.7136\n",
            "Epoch 58/100\n",
            "12/12 [==============================] - 0s 4ms/step - loss: 52.0752 - mse: 52.0752 - mae: 5.6409 - val_loss: 100.3183 - val_mse: 100.3183 - val_mae: 7.9456\n",
            "Epoch 59/100\n",
            "12/12 [==============================] - 0s 15ms/step - loss: 54.6775 - mse: 54.6775 - mae: 5.7257 - val_loss: 96.2999 - val_mse: 96.2999 - val_mae: 7.7522\n",
            "Epoch 60/100\n",
            "12/12 [==============================] - 0s 5ms/step - loss: 48.8914 - mse: 48.8914 - mae: 5.5717 - val_loss: 92.3850 - val_mse: 92.3850 - val_mae: 7.5563\n",
            "Epoch 61/100\n",
            "12/12 [==============================] - 0s 4ms/step - loss: 46.5826 - mse: 46.5826 - mae: 5.3748 - val_loss: 92.0957 - val_mse: 92.0957 - val_mae: 7.5338\n",
            "Epoch 62/100\n",
            "12/12 [==============================] - 0s 5ms/step - loss: 42.8273 - mse: 42.8273 - mae: 5.1029 - val_loss: 78.5850 - val_mse: 78.5850 - val_mae: 6.8569\n",
            "Epoch 63/100\n",
            "12/12 [==============================] - 0s 5ms/step - loss: 50.1433 - mse: 50.1433 - mae: 5.5477 - val_loss: 84.7005 - val_mse: 84.7005 - val_mae: 7.1629\n",
            "Epoch 64/100\n",
            "12/12 [==============================] - 0s 5ms/step - loss: 43.7896 - mse: 43.7896 - mae: 5.2012 - val_loss: 84.8292 - val_mse: 84.8292 - val_mae: 7.1630\n",
            "Epoch 65/100\n",
            "12/12 [==============================] - 0s 5ms/step - loss: 45.2625 - mse: 45.2625 - mae: 5.3690 - val_loss: 74.0686 - val_mse: 74.0686 - val_mae: 6.6276\n",
            "Epoch 66/100\n",
            "12/12 [==============================] - 0s 5ms/step - loss: 40.1711 - mse: 40.1711 - mae: 4.9471 - val_loss: 69.4502 - val_mse: 69.4502 - val_mae: 6.6582\n",
            "Epoch 67/100\n",
            "12/12 [==============================] - 0s 5ms/step - loss: 46.8675 - mse: 46.8675 - mae: 5.2675 - val_loss: 66.2145 - val_mse: 66.2145 - val_mae: 6.2703\n",
            "Epoch 68/100\n",
            "12/12 [==============================] - 0s 4ms/step - loss: 36.4641 - mse: 36.4641 - mae: 4.7506 - val_loss: 81.4229 - val_mse: 81.4229 - val_mae: 7.0854\n",
            "Epoch 69/100\n",
            "12/12 [==============================] - 0s 4ms/step - loss: 37.7401 - mse: 37.7401 - mae: 4.7178 - val_loss: 82.4529 - val_mse: 82.4529 - val_mae: 7.1580\n",
            "Epoch 70/100\n",
            "12/12 [==============================] - 0s 4ms/step - loss: 33.5945 - mse: 33.5945 - mae: 4.5204 - val_loss: 52.9957 - val_mse: 52.9957 - val_mae: 5.8205\n",
            "Epoch 71/100\n",
            "12/12 [==============================] - 0s 4ms/step - loss: 32.1690 - mse: 32.1690 - mae: 4.3969 - val_loss: 49.7117 - val_mse: 49.7117 - val_mae: 5.6964\n",
            "Epoch 72/100\n",
            "12/12 [==============================] - 0s 5ms/step - loss: 31.2071 - mse: 31.2071 - mae: 4.2839 - val_loss: 49.6689 - val_mse: 49.6689 - val_mae: 5.5727\n",
            "Epoch 73/100\n",
            "12/12 [==============================] - 0s 5ms/step - loss: 31.9314 - mse: 31.9314 - mae: 4.3887 - val_loss: 67.1436 - val_mse: 67.1436 - val_mae: 6.3145\n",
            "Epoch 74/100\n",
            "12/12 [==============================] - 0s 4ms/step - loss: 37.3231 - mse: 37.3231 - mae: 4.7548 - val_loss: 84.7080 - val_mse: 84.7080 - val_mae: 7.3360\n",
            "Epoch 75/100\n",
            "12/12 [==============================] - 0s 5ms/step - loss: 34.1165 - mse: 34.1165 - mae: 4.6052 - val_loss: 73.5007 - val_mse: 73.5007 - val_mae: 6.6943\n",
            "Epoch 76/100\n",
            "12/12 [==============================] - 0s 5ms/step - loss: 30.1253 - mse: 30.1253 - mae: 4.1920 - val_loss: 47.1075 - val_mse: 47.1075 - val_mae: 5.3906\n",
            "Epoch 77/100\n",
            "12/12 [==============================] - 0s 5ms/step - loss: 29.4253 - mse: 29.4253 - mae: 4.0808 - val_loss: 43.1218 - val_mse: 43.1218 - val_mae: 5.0903\n",
            "Epoch 78/100\n",
            "12/12 [==============================] - 0s 5ms/step - loss: 25.9947 - mse: 25.9947 - mae: 4.0179 - val_loss: 40.1065 - val_mse: 40.1065 - val_mae: 5.0477\n",
            "Epoch 79/100\n",
            "12/12 [==============================] - 0s 5ms/step - loss: 28.7495 - mse: 28.7495 - mae: 4.0345 - val_loss: 44.0294 - val_mse: 44.0294 - val_mae: 5.1066\n",
            "Epoch 80/100\n",
            "12/12 [==============================] - 0s 5ms/step - loss: 24.0902 - mse: 24.0902 - mae: 3.8365 - val_loss: 41.7708 - val_mse: 41.7708 - val_mae: 4.9406\n",
            "Epoch 81/100\n",
            "12/12 [==============================] - 0s 5ms/step - loss: 23.8280 - mse: 23.8280 - mae: 3.8511 - val_loss: 40.3062 - val_mse: 40.3062 - val_mae: 4.9309\n",
            "Epoch 82/100\n",
            "12/12 [==============================] - 0s 5ms/step - loss: 25.8691 - mse: 25.8691 - mae: 3.7615 - val_loss: 42.9241 - val_mse: 42.9241 - val_mae: 4.9706\n",
            "Epoch 83/100\n",
            "12/12 [==============================] - 0s 4ms/step - loss: 25.4618 - mse: 25.4618 - mae: 3.8956 - val_loss: 34.9909 - val_mse: 34.9909 - val_mae: 4.5915\n",
            "Epoch 84/100\n",
            "12/12 [==============================] - 0s 5ms/step - loss: 23.6440 - mse: 23.6440 - mae: 3.7848 - val_loss: 35.9157 - val_mse: 35.9157 - val_mae: 4.5877\n",
            "Epoch 85/100\n",
            "12/12 [==============================] - 0s 5ms/step - loss: 28.5302 - mse: 28.5302 - mae: 4.1689 - val_loss: 54.0219 - val_mse: 54.0219 - val_mae: 5.7220\n",
            "Epoch 86/100\n",
            "12/12 [==============================] - 0s 5ms/step - loss: 22.0665 - mse: 22.0665 - mae: 3.7228 - val_loss: 47.2045 - val_mse: 47.2045 - val_mae: 5.1603\n",
            "Epoch 87/100\n",
            "12/12 [==============================] - 0s 4ms/step - loss: 24.8858 - mse: 24.8858 - mae: 3.8667 - val_loss: 40.3575 - val_mse: 40.3575 - val_mae: 4.8804\n",
            "Epoch 88/100\n",
            "12/12 [==============================] - 0s 5ms/step - loss: 26.3852 - mse: 26.3852 - mae: 3.8932 - val_loss: 28.3798 - val_mse: 28.3798 - val_mae: 4.1796\n",
            "Epoch 89/100\n",
            "12/12 [==============================] - 0s 5ms/step - loss: 20.2195 - mse: 20.2195 - mae: 3.3363 - val_loss: 27.4517 - val_mse: 27.4517 - val_mae: 4.0652\n",
            "Epoch 90/100\n",
            "12/12 [==============================] - 0s 5ms/step - loss: 17.6745 - mse: 17.6745 - mae: 3.2460 - val_loss: 30.8895 - val_mse: 30.8895 - val_mae: 4.2118\n",
            "Epoch 91/100\n",
            "12/12 [==============================] - 0s 5ms/step - loss: 23.0276 - mse: 23.0276 - mae: 3.6698 - val_loss: 30.3403 - val_mse: 30.3403 - val_mae: 4.2375\n",
            "Epoch 92/100\n",
            "12/12 [==============================] - 0s 5ms/step - loss: 15.8717 - mse: 15.8717 - mae: 2.9741 - val_loss: 59.9552 - val_mse: 59.9552 - val_mae: 6.4681\n",
            "Epoch 93/100\n",
            "12/12 [==============================] - 0s 5ms/step - loss: 21.6708 - mse: 21.6708 - mae: 3.6772 - val_loss: 26.8054 - val_mse: 26.8054 - val_mae: 3.9889\n",
            "Epoch 94/100\n",
            "12/12 [==============================] - 0s 5ms/step - loss: 19.7339 - mse: 19.7339 - mae: 3.1904 - val_loss: 27.3553 - val_mse: 27.3553 - val_mae: 3.9600\n",
            "Epoch 95/100\n",
            "12/12 [==============================] - 0s 5ms/step - loss: 13.9494 - mse: 13.9494 - mae: 2.8574 - val_loss: 33.7409 - val_mse: 33.7409 - val_mae: 4.4078\n",
            "Epoch 96/100\n",
            "12/12 [==============================] - 0s 5ms/step - loss: 16.3578 - mse: 16.3578 - mae: 2.9634 - val_loss: 21.9510 - val_mse: 21.9510 - val_mae: 3.6437\n",
            "Epoch 97/100\n",
            "12/12 [==============================] - 0s 4ms/step - loss: 14.3408 - mse: 14.3408 - mae: 2.7467 - val_loss: 26.4184 - val_mse: 26.4184 - val_mae: 3.8764\n",
            "Epoch 98/100\n",
            "12/12 [==============================] - 0s 4ms/step - loss: 13.4843 - mse: 13.4843 - mae: 2.7768 - val_loss: 20.8137 - val_mse: 20.8137 - val_mae: 3.5285\n",
            "Epoch 99/100\n",
            "12/12 [==============================] - 0s 5ms/step - loss: 15.9569 - mse: 15.9569 - mae: 2.8791 - val_loss: 22.7356 - val_mse: 22.7356 - val_mae: 3.6004\n",
            "Epoch 100/100\n",
            "12/12 [==============================] - 0s 5ms/step - loss: 16.2275 - mse: 16.2275 - mae: 2.9668 - val_loss: 33.2054 - val_mse: 33.2054 - val_mae: 4.3837\n"
          ],
          "name": "stdout"
        }
      ]
    },
    {
      "cell_type": "code",
      "metadata": {
        "colab": {
          "base_uri": "https://localhost:8080/",
          "height": 716
        },
        "id": "HXIFkOIAuOHT",
        "outputId": "ae81a652-bf8e-4bc6-d401-893b43ba26c4"
      },
      "source": [
        "CHART_PLOT_HISTORY(history)"
      ],
      "execution_count": null,
      "outputs": [
        {
          "output_type": "display_data",
          "data": {
            "image/png": "[encoded data removed]",
            "text/plain": [
              "<Figure size 576x864 with 2 Axes>"
            ]
          },
          "metadata": {
            "tags": [],
            "needs_background": "light"
          }
        }
      ]
    },
    {
      "cell_type": "code",
      "metadata": {
        "colab": {
          "base_uri": "https://localhost:8080/"
        },
        "id": "4irDE9qZ11wL",
        "outputId": "b9fafb5c-ba33-4fb9-c40e-f8dfe27ada25"
      },
      "source": [
        "loss, mse, mae = model.evaluate(X,y)\n",
        "print(\"epoch 100회 평균 loss {:.4f}  mse {:.4f}  mae {:.4f}  rmse {:.4f}\".format(loss, mse, mae, np.sqrt(mse)))"
      ],
      "execution_count": null,
      "outputs": [
        {
          "output_type": "stream",
          "text": [
            "13/13 [==============================] - 0s 1ms/step - loss: 15.2746 - mse: 15.2746 - mae: 2.8973\n",
            "epoch 100회 평균 loss 15.2746  mse 15.2746  mae 2.8973  rmse 3.9083\n"
          ],
          "name": "stdout"
        }
      ]
    },
    {
      "cell_type": "code",
      "metadata": {
        "id": "gSB4Ia6awDo0"
      },
      "source": [
        "# pca 처리\n",
        "pca_col = ['cylinder', 'display', 'power', 'weight']"
      ],
      "execution_count": null,
      "outputs": []
    },
    {
      "cell_type": "code",
      "metadata": {
        "colab": {
          "base_uri": "https://localhost:8080/"
        },
        "id": "9S0EhGBRwMKj",
        "outputId": "5b59d0c9-cd95-466e-a702-3a1786b6c7f9"
      },
      "source": [
        "for c in df.columns:\n",
        "  print(c, df[c].nunique()) "
      ],
      "execution_count": null,
      "outputs": [
        {
          "output_type": "stream",
          "text": [
            "mpg 129\n",
            "cylinder 5\n",
            "display 82\n",
            "power 129\n",
            "weight 351\n",
            "accel 95\n",
            "year 13\n",
            "origin 3\n"
          ],
          "name": "stdout"
        }
      ]
    },
    {
      "cell_type": "markdown",
      "metadata": {
        "id": "VgrRnKntweFA"
      },
      "source": [
        "origin, year, cylinder  : one hot encoding 할것."
      ]
    },
    {
      "cell_type": "code",
      "metadata": {
        "id": "EqCKiTioH5Gq"
      },
      "source": [
        "# enc_col = ['cylinder','year','origin']\n",
        "# X = pd.get_dummies(X, columns=enc_col, prefix=\"enc_\")\n",
        "# X"
      ],
      "execution_count": null,
      "outputs": []
    },
    {
      "cell_type": "code",
      "metadata": {
        "colab": {
          "base_uri": "https://localhost:8080/",
          "height": 419
        },
        "id": "qlO7lMBjwbvy",
        "outputId": "2c9ba1b7-fff4-46a4-cce9-f2f0bee8398e"
      },
      "source": [
        "# 인코딩\n",
        "from sklearn.preprocessing import OneHotEncoder\n",
        "\n",
        "\n",
        "cyl_oh = pd.get_dummies(df['cylinder'])\n",
        "cyl_oh"
      ],
      "execution_count": null,
      "outputs": [
        {
          "output_type": "execute_result",
          "data": {
            "text/html": [
              "<div>\n",
              "<style scoped>\n",
              "    .dataframe tbody tr th:only-of-type {\n",
              "        vertical-align: middle;\n",
              "    }\n",
              "\n",
              "    .dataframe tbody tr th {\n",
              "        vertical-align: top;\n",
              "    }\n",
              "\n",
              "    .dataframe thead th {\n",
              "        text-align: right;\n",
              "    }\n",
              "</style>\n",
              "<table border=\"1\" class=\"dataframe\">\n",
              "  <thead>\n",
              "    <tr style=\"text-align: right;\">\n",
              "      <th></th>\n",
              "      <th>3</th>\n",
              "      <th>4</th>\n",
              "      <th>5</th>\n",
              "      <th>6</th>\n",
              "      <th>8</th>\n",
              "    </tr>\n",
              "  </thead>\n",
              "  <tbody>\n",
              "    <tr>\n",
              "      <th>0</th>\n",
              "      <td>0</td>\n",
              "      <td>0</td>\n",
              "      <td>0</td>\n",
              "      <td>0</td>\n",
              "      <td>1</td>\n",
              "    </tr>\n",
              "    <tr>\n",
              "      <th>1</th>\n",
              "      <td>0</td>\n",
              "      <td>0</td>\n",
              "      <td>0</td>\n",
              "      <td>0</td>\n",
              "      <td>1</td>\n",
              "    </tr>\n",
              "    <tr>\n",
              "      <th>2</th>\n",
              "      <td>0</td>\n",
              "      <td>0</td>\n",
              "      <td>0</td>\n",
              "      <td>0</td>\n",
              "      <td>1</td>\n",
              "    </tr>\n",
              "    <tr>\n",
              "      <th>3</th>\n",
              "      <td>0</td>\n",
              "      <td>0</td>\n",
              "      <td>0</td>\n",
              "      <td>0</td>\n",
              "      <td>1</td>\n",
              "    </tr>\n",
              "    <tr>\n",
              "      <th>4</th>\n",
              "      <td>0</td>\n",
              "      <td>0</td>\n",
              "      <td>0</td>\n",
              "      <td>0</td>\n",
              "      <td>1</td>\n",
              "    </tr>\n",
              "    <tr>\n",
              "      <th>...</th>\n",
              "      <td>...</td>\n",
              "      <td>...</td>\n",
              "      <td>...</td>\n",
              "      <td>...</td>\n",
              "      <td>...</td>\n",
              "    </tr>\n",
              "    <tr>\n",
              "      <th>393</th>\n",
              "      <td>0</td>\n",
              "      <td>1</td>\n",
              "      <td>0</td>\n",
              "      <td>0</td>\n",
              "      <td>0</td>\n",
              "    </tr>\n",
              "    <tr>\n",
              "      <th>394</th>\n",
              "      <td>0</td>\n",
              "      <td>1</td>\n",
              "      <td>0</td>\n",
              "      <td>0</td>\n",
              "      <td>0</td>\n",
              "    </tr>\n",
              "    <tr>\n",
              "      <th>395</th>\n",
              "      <td>0</td>\n",
              "      <td>1</td>\n",
              "      <td>0</td>\n",
              "      <td>0</td>\n",
              "      <td>0</td>\n",
              "    </tr>\n",
              "    <tr>\n",
              "      <th>396</th>\n",
              "      <td>0</td>\n",
              "      <td>1</td>\n",
              "      <td>0</td>\n",
              "      <td>0</td>\n",
              "      <td>0</td>\n",
              "    </tr>\n",
              "    <tr>\n",
              "      <th>397</th>\n",
              "      <td>0</td>\n",
              "      <td>1</td>\n",
              "      <td>0</td>\n",
              "      <td>0</td>\n",
              "      <td>0</td>\n",
              "    </tr>\n",
              "  </tbody>\n",
              "</table>\n",
              "<p>398 rows × 5 columns</p>\n",
              "</div>"
            ],
            "text/plain": [
              "     3  4  5  6  8\n",
              "0    0  0  0  0  1\n",
              "1    0  0  0  0  1\n",
              "2    0  0  0  0  1\n",
              "3    0  0  0  0  1\n",
              "4    0  0  0  0  1\n",
              "..  .. .. .. .. ..\n",
              "393  0  1  0  0  0\n",
              "394  0  1  0  0  0\n",
              "395  0  1  0  0  0\n",
              "396  0  1  0  0  0\n",
              "397  0  1  0  0  0\n",
              "\n",
              "[398 rows x 5 columns]"
            ]
          },
          "metadata": {
            "tags": []
          },
          "execution_count": 31
        }
      ]
    },
    {
      "cell_type": "code",
      "metadata": {
        "id": "4niOZ83z_XK9"
      },
      "source": [
        "year_oh = pd.get_dummies(df['year'])\n",
        "ori_oh = pd.get_dummies(df['origin'])"
      ],
      "execution_count": null,
      "outputs": []
    },
    {
      "cell_type": "code",
      "metadata": {
        "colab": {
          "base_uri": "https://localhost:8080/",
          "height": 419
        },
        "id": "VfERFBo__2L7",
        "outputId": "39a5e849-a365-423a-fe90-688c55fd3c40"
      },
      "source": [
        "df = pd.concat([df, cyl_oh, year_oh, ori_oh] , axis=1)\n",
        "df"
      ],
      "execution_count": null,
      "outputs": [
        {
          "output_type": "execute_result",
          "data": {
            "text/html": [
              "<div>\n",
              "<style scoped>\n",
              "    .dataframe tbody tr th:only-of-type {\n",
              "        vertical-align: middle;\n",
              "    }\n",
              "\n",
              "    .dataframe tbody tr th {\n",
              "        vertical-align: top;\n",
              "    }\n",
              "\n",
              "    .dataframe thead th {\n",
              "        text-align: right;\n",
              "    }\n",
              "</style>\n",
              "<table border=\"1\" class=\"dataframe\">\n",
              "  <thead>\n",
              "    <tr style=\"text-align: right;\">\n",
              "      <th></th>\n",
              "      <th>mpg</th>\n",
              "      <th>cylinder</th>\n",
              "      <th>display</th>\n",
              "      <th>power</th>\n",
              "      <th>weight</th>\n",
              "      <th>accel</th>\n",
              "      <th>year</th>\n",
              "      <th>origin</th>\n",
              "      <th>3</th>\n",
              "      <th>4</th>\n",
              "      <th>5</th>\n",
              "      <th>6</th>\n",
              "      <th>8</th>\n",
              "      <th>70</th>\n",
              "      <th>71</th>\n",
              "      <th>72</th>\n",
              "      <th>73</th>\n",
              "      <th>74</th>\n",
              "      <th>75</th>\n",
              "      <th>76</th>\n",
              "      <th>77</th>\n",
              "      <th>78</th>\n",
              "      <th>79</th>\n",
              "      <th>80</th>\n",
              "      <th>81</th>\n",
              "      <th>82</th>\n",
              "      <th>1</th>\n",
              "      <th>2</th>\n",
              "      <th>3</th>\n",
              "    </tr>\n",
              "  </thead>\n",
              "  <tbody>\n",
              "    <tr>\n",
              "      <th>0</th>\n",
              "      <td>18.0</td>\n",
              "      <td>8</td>\n",
              "      <td>307.0</td>\n",
              "      <td>18</td>\n",
              "      <td>3504.0</td>\n",
              "      <td>12.0</td>\n",
              "      <td>70</td>\n",
              "      <td>1</td>\n",
              "      <td>0</td>\n",
              "      <td>0</td>\n",
              "      <td>0</td>\n",
              "      <td>0</td>\n",
              "      <td>1</td>\n",
              "      <td>1</td>\n",
              "      <td>0</td>\n",
              "      <td>0</td>\n",
              "      <td>0</td>\n",
              "      <td>0</td>\n",
              "      <td>0</td>\n",
              "      <td>0</td>\n",
              "      <td>0</td>\n",
              "      <td>0</td>\n",
              "      <td>0</td>\n",
              "      <td>0</td>\n",
              "      <td>0</td>\n",
              "      <td>0</td>\n",
              "      <td>1</td>\n",
              "      <td>0</td>\n",
              "      <td>0</td>\n",
              "    </tr>\n",
              "    <tr>\n",
              "      <th>1</th>\n",
              "      <td>15.0</td>\n",
              "      <td>8</td>\n",
              "      <td>350.0</td>\n",
              "      <td>15</td>\n",
              "      <td>3693.0</td>\n",
              "      <td>11.5</td>\n",
              "      <td>70</td>\n",
              "      <td>1</td>\n",
              "      <td>0</td>\n",
              "      <td>0</td>\n",
              "      <td>0</td>\n",
              "      <td>0</td>\n",
              "      <td>1</td>\n",
              "      <td>1</td>\n",
              "      <td>0</td>\n",
              "      <td>0</td>\n",
              "      <td>0</td>\n",
              "      <td>0</td>\n",
              "      <td>0</td>\n",
              "      <td>0</td>\n",
              "      <td>0</td>\n",
              "      <td>0</td>\n",
              "      <td>0</td>\n",
              "      <td>0</td>\n",
              "      <td>0</td>\n",
              "      <td>0</td>\n",
              "      <td>1</td>\n",
              "      <td>0</td>\n",
              "      <td>0</td>\n",
              "    </tr>\n",
              "    <tr>\n",
              "      <th>2</th>\n",
              "      <td>18.0</td>\n",
              "      <td>8</td>\n",
              "      <td>318.0</td>\n",
              "      <td>18</td>\n",
              "      <td>3436.0</td>\n",
              "      <td>11.0</td>\n",
              "      <td>70</td>\n",
              "      <td>1</td>\n",
              "      <td>0</td>\n",
              "      <td>0</td>\n",
              "      <td>0</td>\n",
              "      <td>0</td>\n",
              "      <td>1</td>\n",
              "      <td>1</td>\n",
              "      <td>0</td>\n",
              "      <td>0</td>\n",
              "      <td>0</td>\n",
              "      <td>0</td>\n",
              "      <td>0</td>\n",
              "      <td>0</td>\n",
              "      <td>0</td>\n",
              "      <td>0</td>\n",
              "      <td>0</td>\n",
              "      <td>0</td>\n",
              "      <td>0</td>\n",
              "      <td>0</td>\n",
              "      <td>1</td>\n",
              "      <td>0</td>\n",
              "      <td>0</td>\n",
              "    </tr>\n",
              "    <tr>\n",
              "      <th>3</th>\n",
              "      <td>16.0</td>\n",
              "      <td>8</td>\n",
              "      <td>304.0</td>\n",
              "      <td>16</td>\n",
              "      <td>3433.0</td>\n",
              "      <td>12.0</td>\n",
              "      <td>70</td>\n",
              "      <td>1</td>\n",
              "      <td>0</td>\n",
              "      <td>0</td>\n",
              "      <td>0</td>\n",
              "      <td>0</td>\n",
              "      <td>1</td>\n",
              "      <td>1</td>\n",
              "      <td>0</td>\n",
              "      <td>0</td>\n",
              "      <td>0</td>\n",
              "      <td>0</td>\n",
              "      <td>0</td>\n",
              "      <td>0</td>\n",
              "      <td>0</td>\n",
              "      <td>0</td>\n",
              "      <td>0</td>\n",
              "      <td>0</td>\n",
              "      <td>0</td>\n",
              "      <td>0</td>\n",
              "      <td>1</td>\n",
              "      <td>0</td>\n",
              "      <td>0</td>\n",
              "    </tr>\n",
              "    <tr>\n",
              "      <th>4</th>\n",
              "      <td>17.0</td>\n",
              "      <td>8</td>\n",
              "      <td>302.0</td>\n",
              "      <td>17</td>\n",
              "      <td>3449.0</td>\n",
              "      <td>10.5</td>\n",
              "      <td>70</td>\n",
              "      <td>1</td>\n",
              "      <td>0</td>\n",
              "      <td>0</td>\n",
              "      <td>0</td>\n",
              "      <td>0</td>\n",
              "      <td>1</td>\n",
              "      <td>1</td>\n",
              "      <td>0</td>\n",
              "      <td>0</td>\n",
              "      <td>0</td>\n",
              "      <td>0</td>\n",
              "      <td>0</td>\n",
              "      <td>0</td>\n",
              "      <td>0</td>\n",
              "      <td>0</td>\n",
              "      <td>0</td>\n",
              "      <td>0</td>\n",
              "      <td>0</td>\n",
              "      <td>0</td>\n",
              "      <td>1</td>\n",
              "      <td>0</td>\n",
              "      <td>0</td>\n",
              "    </tr>\n",
              "    <tr>\n",
              "      <th>...</th>\n",
              "      <td>...</td>\n",
              "      <td>...</td>\n",
              "      <td>...</td>\n",
              "      <td>...</td>\n",
              "      <td>...</td>\n",
              "      <td>...</td>\n",
              "      <td>...</td>\n",
              "      <td>...</td>\n",
              "      <td>...</td>\n",
              "      <td>...</td>\n",
              "      <td>...</td>\n",
              "      <td>...</td>\n",
              "      <td>...</td>\n",
              "      <td>...</td>\n",
              "      <td>...</td>\n",
              "      <td>...</td>\n",
              "      <td>...</td>\n",
              "      <td>...</td>\n",
              "      <td>...</td>\n",
              "      <td>...</td>\n",
              "      <td>...</td>\n",
              "      <td>...</td>\n",
              "      <td>...</td>\n",
              "      <td>...</td>\n",
              "      <td>...</td>\n",
              "      <td>...</td>\n",
              "      <td>...</td>\n",
              "      <td>...</td>\n",
              "      <td>...</td>\n",
              "    </tr>\n",
              "    <tr>\n",
              "      <th>393</th>\n",
              "      <td>27.0</td>\n",
              "      <td>4</td>\n",
              "      <td>140.0</td>\n",
              "      <td>27</td>\n",
              "      <td>2790.0</td>\n",
              "      <td>15.6</td>\n",
              "      <td>82</td>\n",
              "      <td>1</td>\n",
              "      <td>0</td>\n",
              "      <td>1</td>\n",
              "      <td>0</td>\n",
              "      <td>0</td>\n",
              "      <td>0</td>\n",
              "      <td>0</td>\n",
              "      <td>0</td>\n",
              "      <td>0</td>\n",
              "      <td>0</td>\n",
              "      <td>0</td>\n",
              "      <td>0</td>\n",
              "      <td>0</td>\n",
              "      <td>0</td>\n",
              "      <td>0</td>\n",
              "      <td>0</td>\n",
              "      <td>0</td>\n",
              "      <td>0</td>\n",
              "      <td>1</td>\n",
              "      <td>1</td>\n",
              "      <td>0</td>\n",
              "      <td>0</td>\n",
              "    </tr>\n",
              "    <tr>\n",
              "      <th>394</th>\n",
              "      <td>44.0</td>\n",
              "      <td>4</td>\n",
              "      <td>97.0</td>\n",
              "      <td>44</td>\n",
              "      <td>2130.0</td>\n",
              "      <td>24.6</td>\n",
              "      <td>82</td>\n",
              "      <td>2</td>\n",
              "      <td>0</td>\n",
              "      <td>1</td>\n",
              "      <td>0</td>\n",
              "      <td>0</td>\n",
              "      <td>0</td>\n",
              "      <td>0</td>\n",
              "      <td>0</td>\n",
              "      <td>0</td>\n",
              "      <td>0</td>\n",
              "      <td>0</td>\n",
              "      <td>0</td>\n",
              "      <td>0</td>\n",
              "      <td>0</td>\n",
              "      <td>0</td>\n",
              "      <td>0</td>\n",
              "      <td>0</td>\n",
              "      <td>0</td>\n",
              "      <td>1</td>\n",
              "      <td>0</td>\n",
              "      <td>1</td>\n",
              "      <td>0</td>\n",
              "    </tr>\n",
              "    <tr>\n",
              "      <th>395</th>\n",
              "      <td>32.0</td>\n",
              "      <td>4</td>\n",
              "      <td>135.0</td>\n",
              "      <td>32</td>\n",
              "      <td>2295.0</td>\n",
              "      <td>11.6</td>\n",
              "      <td>82</td>\n",
              "      <td>1</td>\n",
              "      <td>0</td>\n",
              "      <td>1</td>\n",
              "      <td>0</td>\n",
              "      <td>0</td>\n",
              "      <td>0</td>\n",
              "      <td>0</td>\n",
              "      <td>0</td>\n",
              "      <td>0</td>\n",
              "      <td>0</td>\n",
              "      <td>0</td>\n",
              "      <td>0</td>\n",
              "      <td>0</td>\n",
              "      <td>0</td>\n",
              "      <td>0</td>\n",
              "      <td>0</td>\n",
              "      <td>0</td>\n",
              "      <td>0</td>\n",
              "      <td>1</td>\n",
              "      <td>1</td>\n",
              "      <td>0</td>\n",
              "      <td>0</td>\n",
              "    </tr>\n",
              "    <tr>\n",
              "      <th>396</th>\n",
              "      <td>28.0</td>\n",
              "      <td>4</td>\n",
              "      <td>120.0</td>\n",
              "      <td>28</td>\n",
              "      <td>2625.0</td>\n",
              "      <td>18.6</td>\n",
              "      <td>82</td>\n",
              "      <td>1</td>\n",
              "      <td>0</td>\n",
              "      <td>1</td>\n",
              "      <td>0</td>\n",
              "      <td>0</td>\n",
              "      <td>0</td>\n",
              "      <td>0</td>\n",
              "      <td>0</td>\n",
              "      <td>0</td>\n",
              "      <td>0</td>\n",
              "      <td>0</td>\n",
              "      <td>0</td>\n",
              "      <td>0</td>\n",
              "      <td>0</td>\n",
              "      <td>0</td>\n",
              "      <td>0</td>\n",
              "      <td>0</td>\n",
              "      <td>0</td>\n",
              "      <td>1</td>\n",
              "      <td>1</td>\n",
              "      <td>0</td>\n",
              "      <td>0</td>\n",
              "    </tr>\n",
              "    <tr>\n",
              "      <th>397</th>\n",
              "      <td>31.0</td>\n",
              "      <td>4</td>\n",
              "      <td>119.0</td>\n",
              "      <td>31</td>\n",
              "      <td>2720.0</td>\n",
              "      <td>19.4</td>\n",
              "      <td>82</td>\n",
              "      <td>1</td>\n",
              "      <td>0</td>\n",
              "      <td>1</td>\n",
              "      <td>0</td>\n",
              "      <td>0</td>\n",
              "      <td>0</td>\n",
              "      <td>0</td>\n",
              "      <td>0</td>\n",
              "      <td>0</td>\n",
              "      <td>0</td>\n",
              "      <td>0</td>\n",
              "      <td>0</td>\n",
              "      <td>0</td>\n",
              "      <td>0</td>\n",
              "      <td>0</td>\n",
              "      <td>0</td>\n",
              "      <td>0</td>\n",
              "      <td>0</td>\n",
              "      <td>1</td>\n",
              "      <td>1</td>\n",
              "      <td>0</td>\n",
              "      <td>0</td>\n",
              "    </tr>\n",
              "  </tbody>\n",
              "</table>\n",
              "<p>398 rows × 29 columns</p>\n",
              "</div>"
            ],
            "text/plain": [
              "      mpg  cylinder  display power  weight  accel  ...  80  81  82  1  2  3\n",
              "0    18.0         8    307.0    18  3504.0   12.0  ...   0   0   0  1  0  0\n",
              "1    15.0         8    350.0    15  3693.0   11.5  ...   0   0   0  1  0  0\n",
              "2    18.0         8    318.0    18  3436.0   11.0  ...   0   0   0  1  0  0\n",
              "3    16.0         8    304.0    16  3433.0   12.0  ...   0   0   0  1  0  0\n",
              "4    17.0         8    302.0    17  3449.0   10.5  ...   0   0   0  1  0  0\n",
              "..    ...       ...      ...   ...     ...    ...  ...  ..  ..  .. .. .. ..\n",
              "393  27.0         4    140.0    27  2790.0   15.6  ...   0   0   1  1  0  0\n",
              "394  44.0         4     97.0    44  2130.0   24.6  ...   0   0   1  0  1  0\n",
              "395  32.0         4    135.0    32  2295.0   11.6  ...   0   0   1  1  0  0\n",
              "396  28.0         4    120.0    28  2625.0   18.6  ...   0   0   1  1  0  0\n",
              "397  31.0         4    119.0    31  2720.0   19.4  ...   0   0   1  1  0  0\n",
              "\n",
              "[398 rows x 29 columns]"
            ]
          },
          "metadata": {
            "tags": []
          },
          "execution_count": 33
        }
      ]
    },
    {
      "cell_type": "code",
      "metadata": {
        "colab": {
          "base_uri": "https://localhost:8080/",
          "height": 419
        },
        "id": "TdFisp-LAoSC",
        "outputId": "3f133597-e3a6-4255-f46d-f2e1490f961f"
      },
      "source": [
        "\n",
        "df = df.drop(['cylinder', 'year', 'origin'],axis=1)\n",
        "df"
      ],
      "execution_count": null,
      "outputs": [
        {
          "output_type": "execute_result",
          "data": {
            "text/html": [
              "<div>\n",
              "<style scoped>\n",
              "    .dataframe tbody tr th:only-of-type {\n",
              "        vertical-align: middle;\n",
              "    }\n",
              "\n",
              "    .dataframe tbody tr th {\n",
              "        vertical-align: top;\n",
              "    }\n",
              "\n",
              "    .dataframe thead th {\n",
              "        text-align: right;\n",
              "    }\n",
              "</style>\n",
              "<table border=\"1\" class=\"dataframe\">\n",
              "  <thead>\n",
              "    <tr style=\"text-align: right;\">\n",
              "      <th></th>\n",
              "      <th>mpg</th>\n",
              "      <th>display</th>\n",
              "      <th>power</th>\n",
              "      <th>weight</th>\n",
              "      <th>accel</th>\n",
              "      <th>3</th>\n",
              "      <th>4</th>\n",
              "      <th>5</th>\n",
              "      <th>6</th>\n",
              "      <th>8</th>\n",
              "      <th>70</th>\n",
              "      <th>71</th>\n",
              "      <th>72</th>\n",
              "      <th>73</th>\n",
              "      <th>74</th>\n",
              "      <th>75</th>\n",
              "      <th>76</th>\n",
              "      <th>77</th>\n",
              "      <th>78</th>\n",
              "      <th>79</th>\n",
              "      <th>80</th>\n",
              "      <th>81</th>\n",
              "      <th>82</th>\n",
              "      <th>1</th>\n",
              "      <th>2</th>\n",
              "      <th>3</th>\n",
              "    </tr>\n",
              "  </thead>\n",
              "  <tbody>\n",
              "    <tr>\n",
              "      <th>0</th>\n",
              "      <td>18.0</td>\n",
              "      <td>307.0</td>\n",
              "      <td>18</td>\n",
              "      <td>3504.0</td>\n",
              "      <td>12.0</td>\n",
              "      <td>0</td>\n",
              "      <td>0</td>\n",
              "      <td>0</td>\n",
              "      <td>0</td>\n",
              "      <td>1</td>\n",
              "      <td>1</td>\n",
              "      <td>0</td>\n",
              "      <td>0</td>\n",
              "      <td>0</td>\n",
              "      <td>0</td>\n",
              "      <td>0</td>\n",
              "      <td>0</td>\n",
              "      <td>0</td>\n",
              "      <td>0</td>\n",
              "      <td>0</td>\n",
              "      <td>0</td>\n",
              "      <td>0</td>\n",
              "      <td>0</td>\n",
              "      <td>1</td>\n",
              "      <td>0</td>\n",
              "      <td>0</td>\n",
              "    </tr>\n",
              "    <tr>\n",
              "      <th>1</th>\n",
              "      <td>15.0</td>\n",
              "      <td>350.0</td>\n",
              "      <td>15</td>\n",
              "      <td>3693.0</td>\n",
              "      <td>11.5</td>\n",
              "      <td>0</td>\n",
              "      <td>0</td>\n",
              "      <td>0</td>\n",
              "      <td>0</td>\n",
              "      <td>1</td>\n",
              "      <td>1</td>\n",
              "      <td>0</td>\n",
              "      <td>0</td>\n",
              "      <td>0</td>\n",
              "      <td>0</td>\n",
              "      <td>0</td>\n",
              "      <td>0</td>\n",
              "      <td>0</td>\n",
              "      <td>0</td>\n",
              "      <td>0</td>\n",
              "      <td>0</td>\n",
              "      <td>0</td>\n",
              "      <td>0</td>\n",
              "      <td>1</td>\n",
              "      <td>0</td>\n",
              "      <td>0</td>\n",
              "    </tr>\n",
              "    <tr>\n",
              "      <th>2</th>\n",
              "      <td>18.0</td>\n",
              "      <td>318.0</td>\n",
              "      <td>18</td>\n",
              "      <td>3436.0</td>\n",
              "      <td>11.0</td>\n",
              "      <td>0</td>\n",
              "      <td>0</td>\n",
              "      <td>0</td>\n",
              "      <td>0</td>\n",
              "      <td>1</td>\n",
              "      <td>1</td>\n",
              "      <td>0</td>\n",
              "      <td>0</td>\n",
              "      <td>0</td>\n",
              "      <td>0</td>\n",
              "      <td>0</td>\n",
              "      <td>0</td>\n",
              "      <td>0</td>\n",
              "      <td>0</td>\n",
              "      <td>0</td>\n",
              "      <td>0</td>\n",
              "      <td>0</td>\n",
              "      <td>0</td>\n",
              "      <td>1</td>\n",
              "      <td>0</td>\n",
              "      <td>0</td>\n",
              "    </tr>\n",
              "    <tr>\n",
              "      <th>3</th>\n",
              "      <td>16.0</td>\n",
              "      <td>304.0</td>\n",
              "      <td>16</td>\n",
              "      <td>3433.0</td>\n",
              "      <td>12.0</td>\n",
              "      <td>0</td>\n",
              "      <td>0</td>\n",
              "      <td>0</td>\n",
              "      <td>0</td>\n",
              "      <td>1</td>\n",
              "      <td>1</td>\n",
              "      <td>0</td>\n",
              "      <td>0</td>\n",
              "      <td>0</td>\n",
              "      <td>0</td>\n",
              "      <td>0</td>\n",
              "      <td>0</td>\n",
              "      <td>0</td>\n",
              "      <td>0</td>\n",
              "      <td>0</td>\n",
              "      <td>0</td>\n",
              "      <td>0</td>\n",
              "      <td>0</td>\n",
              "      <td>1</td>\n",
              "      <td>0</td>\n",
              "      <td>0</td>\n",
              "    </tr>\n",
              "    <tr>\n",
              "      <th>4</th>\n",
              "      <td>17.0</td>\n",
              "      <td>302.0</td>\n",
              "      <td>17</td>\n",
              "      <td>3449.0</td>\n",
              "      <td>10.5</td>\n",
              "      <td>0</td>\n",
              "      <td>0</td>\n",
              "      <td>0</td>\n",
              "      <td>0</td>\n",
              "      <td>1</td>\n",
              "      <td>1</td>\n",
              "      <td>0</td>\n",
              "      <td>0</td>\n",
              "      <td>0</td>\n",
              "      <td>0</td>\n",
              "      <td>0</td>\n",
              "      <td>0</td>\n",
              "      <td>0</td>\n",
              "      <td>0</td>\n",
              "      <td>0</td>\n",
              "      <td>0</td>\n",
              "      <td>0</td>\n",
              "      <td>0</td>\n",
              "      <td>1</td>\n",
              "      <td>0</td>\n",
              "      <td>0</td>\n",
              "    </tr>\n",
              "    <tr>\n",
              "      <th>...</th>\n",
              "      <td>...</td>\n",
              "      <td>...</td>\n",
              "      <td>...</td>\n",
              "      <td>...</td>\n",
              "      <td>...</td>\n",
              "      <td>...</td>\n",
              "      <td>...</td>\n",
              "      <td>...</td>\n",
              "      <td>...</td>\n",
              "      <td>...</td>\n",
              "      <td>...</td>\n",
              "      <td>...</td>\n",
              "      <td>...</td>\n",
              "      <td>...</td>\n",
              "      <td>...</td>\n",
              "      <td>...</td>\n",
              "      <td>...</td>\n",
              "      <td>...</td>\n",
              "      <td>...</td>\n",
              "      <td>...</td>\n",
              "      <td>...</td>\n",
              "      <td>...</td>\n",
              "      <td>...</td>\n",
              "      <td>...</td>\n",
              "      <td>...</td>\n",
              "      <td>...</td>\n",
              "    </tr>\n",
              "    <tr>\n",
              "      <th>393</th>\n",
              "      <td>27.0</td>\n",
              "      <td>140.0</td>\n",
              "      <td>27</td>\n",
              "      <td>2790.0</td>\n",
              "      <td>15.6</td>\n",
              "      <td>0</td>\n",
              "      <td>1</td>\n",
              "      <td>0</td>\n",
              "      <td>0</td>\n",
              "      <td>0</td>\n",
              "      <td>0</td>\n",
              "      <td>0</td>\n",
              "      <td>0</td>\n",
              "      <td>0</td>\n",
              "      <td>0</td>\n",
              "      <td>0</td>\n",
              "      <td>0</td>\n",
              "      <td>0</td>\n",
              "      <td>0</td>\n",
              "      <td>0</td>\n",
              "      <td>0</td>\n",
              "      <td>0</td>\n",
              "      <td>1</td>\n",
              "      <td>1</td>\n",
              "      <td>0</td>\n",
              "      <td>0</td>\n",
              "    </tr>\n",
              "    <tr>\n",
              "      <th>394</th>\n",
              "      <td>44.0</td>\n",
              "      <td>97.0</td>\n",
              "      <td>44</td>\n",
              "      <td>2130.0</td>\n",
              "      <td>24.6</td>\n",
              "      <td>0</td>\n",
              "      <td>1</td>\n",
              "      <td>0</td>\n",
              "      <td>0</td>\n",
              "      <td>0</td>\n",
              "      <td>0</td>\n",
              "      <td>0</td>\n",
              "      <td>0</td>\n",
              "      <td>0</td>\n",
              "      <td>0</td>\n",
              "      <td>0</td>\n",
              "      <td>0</td>\n",
              "      <td>0</td>\n",
              "      <td>0</td>\n",
              "      <td>0</td>\n",
              "      <td>0</td>\n",
              "      <td>0</td>\n",
              "      <td>1</td>\n",
              "      <td>0</td>\n",
              "      <td>1</td>\n",
              "      <td>0</td>\n",
              "    </tr>\n",
              "    <tr>\n",
              "      <th>395</th>\n",
              "      <td>32.0</td>\n",
              "      <td>135.0</td>\n",
              "      <td>32</td>\n",
              "      <td>2295.0</td>\n",
              "      <td>11.6</td>\n",
              "      <td>0</td>\n",
              "      <td>1</td>\n",
              "      <td>0</td>\n",
              "      <td>0</td>\n",
              "      <td>0</td>\n",
              "      <td>0</td>\n",
              "      <td>0</td>\n",
              "      <td>0</td>\n",
              "      <td>0</td>\n",
              "      <td>0</td>\n",
              "      <td>0</td>\n",
              "      <td>0</td>\n",
              "      <td>0</td>\n",
              "      <td>0</td>\n",
              "      <td>0</td>\n",
              "      <td>0</td>\n",
              "      <td>0</td>\n",
              "      <td>1</td>\n",
              "      <td>1</td>\n",
              "      <td>0</td>\n",
              "      <td>0</td>\n",
              "    </tr>\n",
              "    <tr>\n",
              "      <th>396</th>\n",
              "      <td>28.0</td>\n",
              "      <td>120.0</td>\n",
              "      <td>28</td>\n",
              "      <td>2625.0</td>\n",
              "      <td>18.6</td>\n",
              "      <td>0</td>\n",
              "      <td>1</td>\n",
              "      <td>0</td>\n",
              "      <td>0</td>\n",
              "      <td>0</td>\n",
              "      <td>0</td>\n",
              "      <td>0</td>\n",
              "      <td>0</td>\n",
              "      <td>0</td>\n",
              "      <td>0</td>\n",
              "      <td>0</td>\n",
              "      <td>0</td>\n",
              "      <td>0</td>\n",
              "      <td>0</td>\n",
              "      <td>0</td>\n",
              "      <td>0</td>\n",
              "      <td>0</td>\n",
              "      <td>1</td>\n",
              "      <td>1</td>\n",
              "      <td>0</td>\n",
              "      <td>0</td>\n",
              "    </tr>\n",
              "    <tr>\n",
              "      <th>397</th>\n",
              "      <td>31.0</td>\n",
              "      <td>119.0</td>\n",
              "      <td>31</td>\n",
              "      <td>2720.0</td>\n",
              "      <td>19.4</td>\n",
              "      <td>0</td>\n",
              "      <td>1</td>\n",
              "      <td>0</td>\n",
              "      <td>0</td>\n",
              "      <td>0</td>\n",
              "      <td>0</td>\n",
              "      <td>0</td>\n",
              "      <td>0</td>\n",
              "      <td>0</td>\n",
              "      <td>0</td>\n",
              "      <td>0</td>\n",
              "      <td>0</td>\n",
              "      <td>0</td>\n",
              "      <td>0</td>\n",
              "      <td>0</td>\n",
              "      <td>0</td>\n",
              "      <td>0</td>\n",
              "      <td>1</td>\n",
              "      <td>1</td>\n",
              "      <td>0</td>\n",
              "      <td>0</td>\n",
              "    </tr>\n",
              "  </tbody>\n",
              "</table>\n",
              "<p>398 rows × 26 columns</p>\n",
              "</div>"
            ],
            "text/plain": [
              "      mpg  display power  weight  accel  3  4  5  ...  78  79  80  81  82  1  2  3\n",
              "0    18.0    307.0    18  3504.0   12.0  0  0  0  ...   0   0   0   0   0  1  0  0\n",
              "1    15.0    350.0    15  3693.0   11.5  0  0  0  ...   0   0   0   0   0  1  0  0\n",
              "2    18.0    318.0    18  3436.0   11.0  0  0  0  ...   0   0   0   0   0  1  0  0\n",
              "3    16.0    304.0    16  3433.0   12.0  0  0  0  ...   0   0   0   0   0  1  0  0\n",
              "4    17.0    302.0    17  3449.0   10.5  0  0  0  ...   0   0   0   0   0  1  0  0\n",
              "..    ...      ...   ...     ...    ... .. .. ..  ...  ..  ..  ..  ..  .. .. .. ..\n",
              "393  27.0    140.0    27  2790.0   15.6  0  1  0  ...   0   0   0   0   1  1  0  0\n",
              "394  44.0     97.0    44  2130.0   24.6  0  1  0  ...   0   0   0   0   1  0  1  0\n",
              "395  32.0    135.0    32  2295.0   11.6  0  1  0  ...   0   0   0   0   1  1  0  0\n",
              "396  28.0    120.0    28  2625.0   18.6  0  1  0  ...   0   0   0   0   1  1  0  0\n",
              "397  31.0    119.0    31  2720.0   19.4  0  1  0  ...   0   0   0   0   1  1  0  0\n",
              "\n",
              "[398 rows x 26 columns]"
            ]
          },
          "metadata": {
            "tags": []
          },
          "execution_count": 34
        }
      ]
    },
    {
      "cell_type": "code",
      "metadata": {
        "id": "eV0lAnCnxZx-"
      },
      "source": [
        "# X , y 로 나누기.\n",
        "X_oh = df.drop(\"mpg\", axis=1)\n",
        "y = df[\"mpg\"]\n",
        "\n",
        "\n",
        "X_oh=np.asarray(X).astype(float)\n",
        "y=np.asarray(y).astype(float)\n"
      ],
      "execution_count": null,
      "outputs": []
    },
    {
      "cell_type": "code",
      "metadata": {
        "colab": {
          "base_uri": "https://localhost:8080/"
        },
        "id": "7CdG-yMBCibX",
        "outputId": "565ff01d-1e74-4194-cfe7-5eb779d98eaa"
      },
      "source": [
        "history = model.fit(X_oh, y, callbacks=[early_stop], validation_split=0.1, epochs=150)"
      ],
      "execution_count": null,
      "outputs": [
        {
          "output_type": "stream",
          "text": [
            "Epoch 1/150\n",
            "12/12 [==============================] - 0s 17ms/step - loss: 13.5816 - mse: 13.5816 - mae: 2.7684 - val_loss: 32.2185 - val_mse: 32.2185 - val_mae: 4.3836\n",
            "Epoch 2/150\n",
            "12/12 [==============================] - 0s 5ms/step - loss: 12.7628 - mse: 12.7628 - mae: 2.6412 - val_loss: 31.9874 - val_mse: 31.9874 - val_mae: 4.3414\n",
            "Epoch 3/150\n",
            "12/12 [==============================] - 0s 5ms/step - loss: 12.4638 - mse: 12.4638 - mae: 2.6177 - val_loss: 22.7940 - val_mse: 22.7940 - val_mae: 3.5885\n",
            "Epoch 4/150\n",
            "12/12 [==============================] - 0s 5ms/step - loss: 11.7692 - mse: 11.7692 - mae: 2.5298 - val_loss: 26.2108 - val_mse: 26.2108 - val_mae: 3.8185\n",
            "Epoch 5/150\n",
            "12/12 [==============================] - 0s 5ms/step - loss: 12.5995 - mse: 12.5995 - mae: 2.6226 - val_loss: 19.5188 - val_mse: 19.5188 - val_mae: 3.3090\n",
            "Epoch 6/150\n",
            "12/12 [==============================] - 0s 5ms/step - loss: 11.7252 - mse: 11.7252 - mae: 2.5084 - val_loss: 26.2595 - val_mse: 26.2595 - val_mae: 3.8335\n",
            "Epoch 7/150\n",
            "12/12 [==============================] - 0s 5ms/step - loss: 11.3926 - mse: 11.3926 - mae: 2.4336 - val_loss: 26.2602 - val_mse: 26.2602 - val_mae: 3.8274\n",
            "Epoch 8/150\n",
            "12/12 [==============================] - 0s 5ms/step - loss: 11.0868 - mse: 11.0868 - mae: 2.4510 - val_loss: 23.8807 - val_mse: 23.8807 - val_mae: 3.6267\n",
            "Epoch 9/150\n",
            "12/12 [==============================] - 0s 5ms/step - loss: 10.7156 - mse: 10.7156 - mae: 2.3830 - val_loss: 25.2527 - val_mse: 25.2527 - val_mae: 3.7656\n",
            "Epoch 10/150\n",
            "12/12 [==============================] - 0s 6ms/step - loss: 11.7167 - mse: 11.7167 - mae: 2.5105 - val_loss: 27.7377 - val_mse: 27.7377 - val_mae: 4.0306\n",
            "Epoch 11/150\n",
            "12/12 [==============================] - 0s 5ms/step - loss: 10.8740 - mse: 10.8740 - mae: 2.3887 - val_loss: 23.9732 - val_mse: 23.9732 - val_mae: 3.6510\n",
            "Epoch 12/150\n",
            "12/12 [==============================] - 0s 6ms/step - loss: 10.6488 - mse: 10.6488 - mae: 2.4044 - val_loss: 21.3988 - val_mse: 21.3988 - val_mae: 3.4031\n",
            "Epoch 13/150\n",
            "12/12 [==============================] - 0s 5ms/step - loss: 10.9131 - mse: 10.9131 - mae: 2.4043 - val_loss: 23.6594 - val_mse: 23.6594 - val_mae: 3.6989\n",
            "Epoch 14/150\n",
            "12/12 [==============================] - 0s 5ms/step - loss: 10.4940 - mse: 10.4940 - mae: 2.3948 - val_loss: 17.4399 - val_mse: 17.4399 - val_mae: 3.0798\n",
            "Epoch 15/150\n",
            "12/12 [==============================] - 0s 5ms/step - loss: 10.4249 - mse: 10.4249 - mae: 2.3856 - val_loss: 16.9975 - val_mse: 16.9975 - val_mae: 3.0207\n",
            "Epoch 16/150\n",
            "12/12 [==============================] - 0s 5ms/step - loss: 10.2899 - mse: 10.2899 - mae: 2.3721 - val_loss: 25.1486 - val_mse: 25.1486 - val_mae: 3.7921\n",
            "Epoch 17/150\n",
            "12/12 [==============================] - 0s 6ms/step - loss: 9.4695 - mse: 9.4695 - mae: 2.2482 - val_loss: 21.9928 - val_mse: 21.9928 - val_mae: 3.4745\n",
            "Epoch 18/150\n",
            "12/12 [==============================] - 0s 5ms/step - loss: 9.4695 - mse: 9.4695 - mae: 2.2168 - val_loss: 26.5236 - val_mse: 26.5236 - val_mae: 3.9459\n",
            "Epoch 19/150\n",
            "12/12 [==============================] - 0s 6ms/step - loss: 10.7202 - mse: 10.7202 - mae: 2.4584 - val_loss: 15.7300 - val_mse: 15.7300 - val_mae: 2.9042\n",
            "Epoch 20/150\n",
            "12/12 [==============================] - 0s 5ms/step - loss: 14.8791 - mse: 14.8791 - mae: 3.1514 - val_loss: 14.4065 - val_mse: 14.4065 - val_mae: 2.7726\n",
            "Epoch 21/150\n",
            "12/12 [==============================] - 0s 5ms/step - loss: 10.2319 - mse: 10.2319 - mae: 2.3052 - val_loss: 25.9625 - val_mse: 25.9625 - val_mae: 3.8975\n",
            "Epoch 22/150\n",
            "12/12 [==============================] - 0s 5ms/step - loss: 9.3044 - mse: 9.3044 - mae: 2.1996 - val_loss: 19.5913 - val_mse: 19.5913 - val_mae: 3.2027\n",
            "Epoch 23/150\n",
            "12/12 [==============================] - 0s 5ms/step - loss: 9.2241 - mse: 9.2241 - mae: 2.1700 - val_loss: 16.0784 - val_mse: 16.0784 - val_mae: 2.9298\n",
            "Epoch 24/150\n",
            "12/12 [==============================] - 0s 5ms/step - loss: 10.9579 - mse: 10.9579 - mae: 2.5049 - val_loss: 24.4743 - val_mse: 24.4743 - val_mae: 3.7712\n",
            "Epoch 25/150\n",
            "12/12 [==============================] - 0s 5ms/step - loss: 9.7995 - mse: 9.7995 - mae: 2.3385 - val_loss: 17.3889 - val_mse: 17.3889 - val_mae: 2.9999\n",
            "Epoch 26/150\n",
            "12/12 [==============================] - 0s 5ms/step - loss: 9.5823 - mse: 9.5823 - mae: 2.2432 - val_loss: 13.4634 - val_mse: 13.4634 - val_mae: 2.6807\n",
            "Epoch 27/150\n",
            "12/12 [==============================] - 0s 6ms/step - loss: 9.8374 - mse: 9.8374 - mae: 2.4029 - val_loss: 16.3584 - val_mse: 16.3584 - val_mae: 2.9478\n",
            "Epoch 28/150\n",
            "12/12 [==============================] - 0s 5ms/step - loss: 9.0821 - mse: 9.0821 - mae: 2.2157 - val_loss: 20.0669 - val_mse: 20.0669 - val_mae: 3.2854\n",
            "Epoch 29/150\n",
            "12/12 [==============================] - 0s 5ms/step - loss: 8.2378 - mse: 8.2378 - mae: 2.0496 - val_loss: 18.5302 - val_mse: 18.5302 - val_mae: 3.1230\n",
            "Epoch 30/150\n",
            "12/12 [==============================] - 0s 5ms/step - loss: 8.5990 - mse: 8.5990 - mae: 2.1277 - val_loss: 21.3403 - val_mse: 21.3403 - val_mae: 3.4791\n",
            "Epoch 31/150\n",
            "12/12 [==============================] - 0s 5ms/step - loss: 8.7187 - mse: 8.7187 - mae: 2.1390 - val_loss: 19.1297 - val_mse: 19.1297 - val_mae: 3.2820\n",
            "Epoch 32/150\n",
            "12/12 [==============================] - 0s 5ms/step - loss: 8.6087 - mse: 8.6087 - mae: 2.1108 - val_loss: 17.7525 - val_mse: 17.7525 - val_mae: 3.0518\n",
            "Epoch 33/150\n",
            "12/12 [==============================] - 0s 5ms/step - loss: 8.4028 - mse: 8.4028 - mae: 2.1040 - val_loss: 19.7955 - val_mse: 19.7955 - val_mae: 3.3801\n",
            "Epoch 34/150\n",
            "12/12 [==============================] - 0s 6ms/step - loss: 8.3120 - mse: 8.3120 - mae: 2.0779 - val_loss: 18.8295 - val_mse: 18.8295 - val_mae: 3.1517\n",
            "Epoch 35/150\n",
            "12/12 [==============================] - 0s 16ms/step - loss: 8.5496 - mse: 8.5496 - mae: 2.1065 - val_loss: 14.6338 - val_mse: 14.6338 - val_mae: 2.7618\n",
            "Epoch 36/150\n",
            "12/12 [==============================] - 0s 5ms/step - loss: 8.1334 - mse: 8.1334 - mae: 2.1124 - val_loss: 18.0306 - val_mse: 18.0306 - val_mae: 3.1509\n"
          ],
          "name": "stdout"
        }
      ]
    },
    {
      "cell_type": "code",
      "metadata": {
        "colab": {
          "base_uri": "https://localhost:8080/"
        },
        "id": "tjEi19WBCiZJ",
        "outputId": "7a4cd634-cc54-418b-998b-7eb865ca8dd9"
      },
      "source": [
        "loss, mse, mae = model.evaluate(X_oh,y)\n",
        "print(\"epoch 100회 one hot enco 평균 loss {:.4f}  mse {:.4f}  mae {:.4f}  rmse {:.4f}\".format(loss, mse, mae, np.sqrt(mse)))"
      ],
      "execution_count": null,
      "outputs": [
        {
          "output_type": "stream",
          "text": [
            "13/13 [==============================] - 0s 2ms/step - loss: 8.5668 - mse: 8.5668 - mae: 2.0726\n",
            "epoch 100회 one hot enco 평균 loss 8.5668  mse 8.5668  mae 2.0726  rmse 2.9269\n"
          ],
          "name": "stdout"
        }
      ]
    },
    {
      "cell_type": "markdown",
      "metadata": {
        "id": "DCY1wtpvDuar"
      },
      "source": [
        "1st score  : \n",
        "13/13 [==============================] - 0s 1ms/step - loss: 506.2323 - mse: 506.2323 - mae: 19.9160\n",
        "epoch 100회 평균 loss 506.2323  mse 506.2323  mae 19.9160  rmse 22.4996"
      ]
    },
    {
      "cell_type": "code",
      "metadata": {
        "id": "nhh_kzneCiWx"
      },
      "source": [
        ""
      ],
      "execution_count": null,
      "outputs": []
    },
    {
      "cell_type": "code",
      "metadata": {
        "id": "H18O9A4LCiSx"
      },
      "source": [
        ""
      ],
      "execution_count": null,
      "outputs": []
    },
    {
      "cell_type": "code",
      "metadata": {
        "id": "6qY6O9nFxZ0H"
      },
      "source": [
        "#스케일링\n"
      ],
      "execution_count": null,
      "outputs": []
    },
    {
      "cell_type": "code",
      "metadata": {
        "id": "v5Ub5vurxZ2N"
      },
      "source": [
        ""
      ],
      "execution_count": null,
      "outputs": []
    },
    {
      "cell_type": "code",
      "metadata": {
        "id": "k2vaNaXpxZ4e"
      },
      "source": [
        ""
      ],
      "execution_count": null,
      "outputs": []
    }
  ]
}